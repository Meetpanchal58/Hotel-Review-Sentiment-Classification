{
 "cells": [
  {
   "cell_type": "code",
   "execution_count": 1,
   "metadata": {},
   "outputs": [],
   "source": [
    "import pandas as pd"
   ]
  },
  {
   "cell_type": "code",
   "execution_count": null,
   "metadata": {},
   "outputs": [],
   "source": [
    "df = pd.read_csv(\"C:/Users/meetp/Downloads/!PYTHON FILES/hotel_reviews\")\n",
    "\n",
    "df.drop(df.columns[0], axis=1, inplace=True)\n",
    "df.head()"
   ]
  },
  {
   "cell_type": "code",
   "execution_count": null,
   "metadata": {},
   "outputs": [],
   "source": [
    "from src.components.data_tranformation import DataTransformation\n",
    "from src.components.model_trainer import ModelTrainer \n",
    "\n",
    "\n",
    "data_transformation = DataTransformation()\n",
    "X_balanced, y_balanced = data_transformation.transform(df)\n",
    "            \n",
    "print(X_balanced)"
   ]
  },
  {
   "cell_type": "code",
   "execution_count": null,
   "metadata": {},
   "outputs": [],
   "source": [
    "y_balanced.values"
   ]
  },
  {
   "cell_type": "code",
   "execution_count": null,
   "metadata": {},
   "outputs": [],
   "source": [
    "model_trainer = ModelTrainer()\n",
    "gru, X_test, y_test = model_trainer.train_model(X_balanced, y_balanced)"
   ]
  },
  {
   "cell_type": "code",
   "execution_count": null,
   "metadata": {},
   "outputs": [],
   "source": [
    "import numpy as np\n",
    "\n",
    "y_pred = np.argmax(gru.predict(X_test),axis = 1)\n",
    "y_pred"
   ]
  },
  {
   "cell_type": "code",
   "execution_count": null,
   "metadata": {},
   "outputs": [],
   "source": [
    "\n",
    "from sklearn.metrics import classification_report, confusion_matrix\n",
    "\n",
    "loss, accuracy = gru.evaluate(X_test, y_test)\n",
    "print(f'Test Loss: {loss}, Test Accuracy: {accuracy}')\n",
    "\n",
    "print(classification_report(y_test, y_pred))\n",
    "print(\"Classification Report:\")\n",
    "\n",
    "print(confusion_matrix(y_test, y_pred))\n",
    "print(\"Confusion Matrix:\")"
   ]
  },
  {
   "cell_type": "code",
   "execution_count": 2,
   "metadata": {},
   "outputs": [
    {
     "data": {
      "text/html": [
       "<div>\n",
       "<style scoped>\n",
       "    .dataframe tbody tr th:only-of-type {\n",
       "        vertical-align: middle;\n",
       "    }\n",
       "\n",
       "    .dataframe tbody tr th {\n",
       "        vertical-align: top;\n",
       "    }\n",
       "\n",
       "    .dataframe thead th {\n",
       "        text-align: right;\n",
       "    }\n",
       "</style>\n",
       "<table border=\"1\" class=\"dataframe\">\n",
       "  <thead>\n",
       "    <tr style=\"text-align: right;\">\n",
       "      <th></th>\n",
       "      <th>Review</th>\n",
       "      <th>Rating</th>\n",
       "    </tr>\n",
       "  </thead>\n",
       "  <tbody>\n",
       "    <tr>\n",
       "      <th>0</th>\n",
       "      <td>nice hotel expensive parking got good deal sta...</td>\n",
       "      <td>4</td>\n",
       "    </tr>\n",
       "    <tr>\n",
       "      <th>1</th>\n",
       "      <td>ok nothing special charge diamond member hilto...</td>\n",
       "      <td>2</td>\n",
       "    </tr>\n",
       "    <tr>\n",
       "      <th>2</th>\n",
       "      <td>nice rooms not 4* experience hotel monaco seat...</td>\n",
       "      <td>3</td>\n",
       "    </tr>\n",
       "    <tr>\n",
       "      <th>3</th>\n",
       "      <td>unique, great stay, wonderful time hotel monac...</td>\n",
       "      <td>5</td>\n",
       "    </tr>\n",
       "    <tr>\n",
       "      <th>4</th>\n",
       "      <td>great stay great stay, went seahawk game aweso...</td>\n",
       "      <td>5</td>\n",
       "    </tr>\n",
       "  </tbody>\n",
       "</table>\n",
       "</div>"
      ],
      "text/plain": [
       "                                              Review  Rating\n",
       "0  nice hotel expensive parking got good deal sta...       4\n",
       "1  ok nothing special charge diamond member hilto...       2\n",
       "2  nice rooms not 4* experience hotel monaco seat...       3\n",
       "3  unique, great stay, wonderful time hotel monac...       5\n",
       "4  great stay great stay, went seahawk game aweso...       5"
      ]
     },
     "execution_count": 2,
     "metadata": {},
     "output_type": "execute_result"
    }
   ],
   "source": [
    "import pandas as pd\n",
    "\n",
    "df = pd.read_csv(\"C:/Users/meetp/Downloads/!PYTHON FILES/hotel_reviews\")\n",
    "\n",
    "df.drop(df.columns[0], axis=1, inplace=True)\n",
    "df.head()"
   ]
  },
  {
   "cell_type": "code",
   "execution_count": 3,
   "metadata": {},
   "outputs": [],
   "source": [
    "X = df['Review']\n",
    "y = df['Rating'] - 1"
   ]
  },
  {
   "cell_type": "code",
   "execution_count": 4,
   "metadata": {},
   "outputs": [
    {
     "name": "stdout",
     "output_type": "stream",
     "text": [
      "Model loaded successfully from artifacts/GRU_Model.h5\n"
     ]
    }
   ],
   "source": [
    "from src.utils.utils import load_object, load_GRU\n",
    "\n",
    "preprocess = load_object('artifacts/GRU_Preprocessor.pkl')\n",
    "loaded_model = load_GRU('artifacts/GRU_Model.h5')"
   ]
  },
  {
   "cell_type": "code",
   "execution_count": 5,
   "metadata": {},
   "outputs": [
    {
     "data": {
      "text/plain": [
       "array([[   0,    0,    0, ...,  177,  216,    8],\n",
       "       [   0,    0,    0, ...,  794,    1,  516],\n",
       "       [   0,    0,    0, ...,   42, 1665,   83],\n",
       "       ...,\n",
       "       [   0,    0,    0, ...,  390, 1464,  999],\n",
       "       [   0,    0,    0, ...,  320, 4658, 3646],\n",
       "       [   0,    0,    0, ...,  157,  125,   20]])"
      ]
     },
     "execution_count": 5,
     "metadata": {},
     "output_type": "execute_result"
    }
   ],
   "source": [
    "X_padded = preprocess.transform(X)\n",
    "X_padded"
   ]
  },
  {
   "cell_type": "code",
   "execution_count": 12,
   "metadata": {},
   "outputs": [],
   "source": [
    "from sklearn.model_selection import train_test_split\n",
    "\n",
    "X_subset, _, y_subset, _ = train_test_split(X_padded, y, train_size=100, stratify=y)"
   ]
  },
  {
   "cell_type": "code",
   "execution_count": 13,
   "metadata": {},
   "outputs": [
    {
     "name": "stdout",
     "output_type": "stream",
     "text": [
      "4/4 [==============================] - 0s 91ms/step\n"
     ]
    },
    {
     "data": {
      "text/plain": [
       "array([1, 3, 3, 3, 4, 2, 3, 3, 4, 4, 4, 4, 3, 0, 1, 1, 3, 2, 3, 4, 1, 4,\n",
       "       3, 4, 3, 2, 4, 4, 3, 4, 4, 4, 2, 4, 3, 1, 3, 4, 3, 3, 4, 4, 4, 3,\n",
       "       3, 0, 2, 4, 4, 4, 4, 4, 3, 4, 3, 4, 4, 3, 0, 0, 4, 4, 3, 4, 4, 2,\n",
       "       4, 1, 2, 3, 3, 1, 3, 1, 4, 1, 3, 4, 3, 3, 4, 4, 4, 4, 3, 2, 4, 0,\n",
       "       1, 0, 4, 3, 4, 2, 4, 0, 4, 3, 4, 4], dtype=int64)"
      ]
     },
     "execution_count": 13,
     "metadata": {},
     "output_type": "execute_result"
    }
   ],
   "source": [
    "import numpy as np\n",
    "\n",
    "y_pred = np.argmax(loaded_model.predict(X_subset),axis = 1)\n",
    "y_pred"
   ]
  },
  {
   "cell_type": "code",
   "execution_count": 14,
   "metadata": {},
   "outputs": [
    {
     "data": {
      "text/plain": [
       "array([1, 3, 3, 3, 4, 2, 3, 4, 4, 4, 4, 4, 4, 0, 3, 1, 3, 2, 3, 4, 1, 4,\n",
       "       3, 2, 3, 2, 4, 4, 3, 4, 4, 4, 2, 4, 3, 1, 3, 4, 3, 3, 4, 4, 4, 4,\n",
       "       4, 0, 2, 4, 4, 4, 4, 3, 3, 3, 3, 4, 4, 3, 0, 0, 4, 4, 3, 4, 4, 2,\n",
       "       4, 1, 2, 3, 3, 1, 3, 1, 4, 1, 3, 4, 3, 2, 4, 4, 4, 4, 3, 2, 4, 0,\n",
       "       1, 0, 4, 3, 4, 2, 4, 0, 3, 3, 4, 4], dtype=int64)"
      ]
     },
     "execution_count": 14,
     "metadata": {},
     "output_type": "execute_result"
    }
   ],
   "source": [
    "y_subset.values"
   ]
  },
  {
   "cell_type": "code",
   "execution_count": 15,
   "metadata": {},
   "outputs": [
    {
     "name": "stdout",
     "output_type": "stream",
     "text": [
      "4/4 [==============================] - 0s 57ms/step - loss: 0.2688 - accuracy: 0.9000\n",
      "Test Loss: 0.2687566876411438, Test Accuracy: 0.8999999761581421\n",
      "              precision    recall  f1-score   support\n",
      "\n",
      "           0       1.00      1.00      1.00         7\n",
      "           1       0.90      1.00      0.95         9\n",
      "           2       1.00      0.82      0.90        11\n",
      "           3       0.83      0.86      0.85        29\n",
      "           4       0.91      0.91      0.91        44\n",
      "\n",
      "    accuracy                           0.90       100\n",
      "   macro avg       0.93      0.92      0.92       100\n",
      "weighted avg       0.90      0.90      0.90       100\n",
      "\n",
      "Classification Report:\n",
      "[[ 7  0  0  0  0]\n",
      " [ 0  9  0  0  0]\n",
      " [ 0  0  9  1  1]\n",
      " [ 0  1  0 25  3]\n",
      " [ 0  0  0  4 40]]\n",
      "Confusion Matrix:\n"
     ]
    }
   ],
   "source": [
    "from sklearn.metrics import classification_report, confusion_matrix\n",
    "\n",
    "loss, accuracy = loaded_model.evaluate(X_subset, y_subset)\n",
    "print(f'Test Loss: {loss}, Test Accuracy: {accuracy}')\n",
    "\n",
    "print(classification_report(y_subset, y_pred))\n",
    "print(\"Classification Report:\")\n",
    "\n",
    "print(confusion_matrix(y_subset, y_pred))\n",
    "print(\"Confusion Matrix:\")"
   ]
  },
  {
   "cell_type": "code",
   "execution_count": null,
   "metadata": {},
   "outputs": [],
   "source": []
  }
 ],
 "metadata": {
  "kernelspec": {
   "display_name": "meet",
   "language": "python",
   "name": "meet"
  },
  "language_info": {
   "codemirror_mode": {
    "name": "ipython",
    "version": 3
   },
   "file_extension": ".py",
   "mimetype": "text/x-python",
   "name": "python",
   "nbconvert_exporter": "python",
   "pygments_lexer": "ipython3",
   "version": "3.9.19"
  }
 },
 "nbformat": 4,
 "nbformat_minor": 2
}
