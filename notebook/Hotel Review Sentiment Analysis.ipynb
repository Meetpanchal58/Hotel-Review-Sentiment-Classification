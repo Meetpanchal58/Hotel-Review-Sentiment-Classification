{
 "cells": [
  {
   "cell_type": "code",
   "execution_count": 1,
   "id": "edcbebad-30e7-4587-9a50-22db4713412e",
   "metadata": {},
   "outputs": [],
   "source": [
    "#!pip install transformers==4.22.1 -q"
   ]
  },
  {
   "cell_type": "code",
   "execution_count": 2,
   "id": "9ef54216-822e-4401-97bc-863793d27cc1",
   "metadata": {},
   "outputs": [],
   "source": [
    "import tensorflow as tf"
   ]
  },
  {
   "cell_type": "code",
   "execution_count": 3,
   "id": "77408a22",
   "metadata": {},
   "outputs": [
    {
     "name": "stdout",
     "output_type": "stream",
     "text": [
      "2.10.0\n"
     ]
    }
   ],
   "source": [
    "print(tf.__version__)"
   ]
  },
  {
   "cell_type": "code",
   "execution_count": 4,
   "id": "62d82c70-2095-4e7f-aa6e-f6ba744c3a94",
   "metadata": {},
   "outputs": [
    {
     "data": {
      "text/plain": [
       "[PhysicalDevice(name='/physical_device:GPU:0', device_type='GPU')]"
      ]
     },
     "execution_count": 4,
     "metadata": {},
     "output_type": "execute_result"
    }
   ],
   "source": [
    "tf.config.list_physical_devices('GPU')"
   ]
  },
  {
   "cell_type": "code",
   "execution_count": 5,
   "id": "6c50987f-0a74-4537-a854-13213aa662bb",
   "metadata": {},
   "outputs": [
    {
     "name": "stdout",
     "output_type": "stream",
     "text": [
      "WARNING:tensorflow:From C:\\Users\\meetp\\AppData\\Local\\Temp\\ipykernel_376\\337460670.py:1: is_gpu_available (from tensorflow.python.framework.test_util) is deprecated and will be removed in a future version.\n",
      "Instructions for updating:\n",
      "Use `tf.config.list_physical_devices('GPU')` instead.\n"
     ]
    },
    {
     "data": {
      "text/plain": [
       "True"
      ]
     },
     "execution_count": 5,
     "metadata": {},
     "output_type": "execute_result"
    }
   ],
   "source": [
    "tf.test.is_gpu_available()"
   ]
  },
  {
   "cell_type": "code",
   "execution_count": 6,
   "id": "3b7bf939-5291-464c-867e-7e86a562d192",
   "metadata": {},
   "outputs": [
    {
     "name": "stdout",
     "output_type": "stream",
     "text": [
      "True\n"
     ]
    }
   ],
   "source": [
    "print(tf.test.is_built_with_cuda())"
   ]
  },
  {
   "cell_type": "code",
   "execution_count": 7,
   "id": "28360650-9814-4099-a05a-ea9405a8644a",
   "metadata": {},
   "outputs": [],
   "source": [
    "#pip install tensorflow-gpu==2.10"
   ]
  },
  {
   "cell_type": "code",
   "execution_count": 8,
   "id": "091d8ce8-37d9-4333-89e3-7dbc0a1edb96",
   "metadata": {},
   "outputs": [],
   "source": [
    "import numpy as np\n",
    "import pandas as pd\n",
    "import matplotlib.pyplot as plt\n",
    "import seaborn as sns\n",
    "%matplotlib inline\n",
    "\n",
    "import re\n",
    "import nltk\n",
    "from nltk.stem import WordNetLemmatizer\n",
    "from nltk.stem import PorterStemmer\n",
    "from nltk.corpus import stopwords\n",
    "from collections import Counter\n",
    "from keras.models import Sequential\n",
    "from keras.preprocessing.text import Tokenizer\n",
    "from tensorflow.keras.preprocessing.sequence import pad_sequences\n",
    "from keras.models import Sequential\n",
    "from keras.layers import Embedding, GRU, LSTM, Bidirectional, Dense, Dropout,SpatialDropout1D\n",
    "from tensorflow.keras import regularizers\n",
    "from keras.optimizers import Adam\n",
    "from tensorflow.keras.optimizers import RMSprop\n",
    "from tensorflow.keras.layers import BatchNormalization\n",
    "from keras.callbacks import EarlyStopping\n",
    "from sklearn.model_selection import train_test_split\n",
    "from sklearn.metrics import classification_report, confusion_matrix\n",
    "from imblearn.over_sampling import SMOTE, ADASYN, RandomOverSampler\n",
    "from sklearn.feature_extraction.text import TfidfVectorizer\n",
    "from imblearn.pipeline import Pipeline\n",
    "from keras.utils import to_categorical\n",
    "from sklearn.metrics import accuracy_score, classification_report, confusion_matrix\n",
    "\n",
    "import warnings\n",
    "warnings.filterwarnings('ignore')"
   ]
  },
  {
   "cell_type": "markdown",
   "id": "39734f58-08b1-450e-9aff-a94adbe5b6d1",
   "metadata": {},
   "source": [
    "## "
   ]
  },
  {
   "cell_type": "markdown",
   "id": "d0550da3-c96d-4d81-ad56-2ff5c7e57fd9",
   "metadata": {},
   "source": [
    "### Importing Data from Azure Blob"
   ]
  },
  {
   "cell_type": "code",
   "execution_count": 5,
   "id": "81545979-90dd-41b9-80a9-163d00bf8af3",
   "metadata": {},
   "outputs": [],
   "source": [
    "import io\n",
    "from azure.storage.blob import BlobServiceClient, BlobClient, ContainerClient"
   ]
  },
  {
   "cell_type": "code",
   "execution_count": 6,
   "id": "d0f25828-4c35-4856-b53e-d5f5c02dbf2d",
   "metadata": {},
   "outputs": [
    {
     "data": {
      "text/html": [
       "<div>\n",
       "<style scoped>\n",
       "    .dataframe tbody tr th:only-of-type {\n",
       "        vertical-align: middle;\n",
       "    }\n",
       "\n",
       "    .dataframe tbody tr th {\n",
       "        vertical-align: top;\n",
       "    }\n",
       "\n",
       "    .dataframe thead th {\n",
       "        text-align: right;\n",
       "    }\n",
       "</style>\n",
       "<table border=\"1\" class=\"dataframe\">\n",
       "  <thead>\n",
       "    <tr style=\"text-align: right;\">\n",
       "      <th></th>\n",
       "      <th>Review</th>\n",
       "      <th>Rating</th>\n",
       "    </tr>\n",
       "  </thead>\n",
       "  <tbody>\n",
       "    <tr>\n",
       "      <th>0</th>\n",
       "      <td>nice hotel expensive parking got good deal sta...</td>\n",
       "      <td>4</td>\n",
       "    </tr>\n",
       "    <tr>\n",
       "      <th>1</th>\n",
       "      <td>ok nothing special charge diamond member hilto...</td>\n",
       "      <td>2</td>\n",
       "    </tr>\n",
       "    <tr>\n",
       "      <th>2</th>\n",
       "      <td>nice rooms not 4* experience hotel monaco seat...</td>\n",
       "      <td>3</td>\n",
       "    </tr>\n",
       "    <tr>\n",
       "      <th>3</th>\n",
       "      <td>unique, great stay, wonderful time hotel monac...</td>\n",
       "      <td>5</td>\n",
       "    </tr>\n",
       "    <tr>\n",
       "      <th>4</th>\n",
       "      <td>great stay great stay, went seahawk game aweso...</td>\n",
       "      <td>5</td>\n",
       "    </tr>\n",
       "  </tbody>\n",
       "</table>\n",
       "</div>"
      ],
      "text/plain": [
       "                                              Review  Rating\n",
       "0  nice hotel expensive parking got good deal sta...       4\n",
       "1  ok nothing special charge diamond member hilto...       2\n",
       "2  nice rooms not 4* experience hotel monaco seat...       3\n",
       "3  unique, great stay, wonderful time hotel monac...       5\n",
       "4  great stay great stay, went seahawk game aweso...       5"
      ]
     },
     "execution_count": 6,
     "metadata": {},
     "output_type": "execute_result"
    }
   ],
   "source": [
    "connection_string = \"\"\n",
    "blob_service_client = BlobServiceClient.from_connection_string(connection_string)\n",
    "\n",
    "container_client = blob_service_client.get_container_client(\"database\")\n",
    "blob_client = container_client.get_blob_client(\"hotel_reviews\")\n",
    "blob_data = blob_client.download_blob().readall()\n",
    "\n",
    "df = pd.read_csv(io.BytesIO(blob_data))\n",
    "\n",
    "df.drop(df.columns[0], axis=1, inplace=True)\n",
    "df.head()"
   ]
  },
  {
   "cell_type": "code",
   "execution_count": 3,
   "id": "6d62ba15-0c94-434b-be3a-f9be28e0c908",
   "metadata": {},
   "outputs": [
    {
     "data": {
      "text/html": [
       "<div>\n",
       "<style scoped>\n",
       "    .dataframe tbody tr th:only-of-type {\n",
       "        vertical-align: middle;\n",
       "    }\n",
       "\n",
       "    .dataframe tbody tr th {\n",
       "        vertical-align: top;\n",
       "    }\n",
       "\n",
       "    .dataframe thead th {\n",
       "        text-align: right;\n",
       "    }\n",
       "</style>\n",
       "<table border=\"1\" class=\"dataframe\">\n",
       "  <thead>\n",
       "    <tr style=\"text-align: right;\">\n",
       "      <th></th>\n",
       "      <th>Review</th>\n",
       "      <th>Rating</th>\n",
       "    </tr>\n",
       "  </thead>\n",
       "  <tbody>\n",
       "    <tr>\n",
       "      <th>0</th>\n",
       "      <td>nice hotel expensive parking got good deal sta...</td>\n",
       "      <td>4</td>\n",
       "    </tr>\n",
       "    <tr>\n",
       "      <th>1</th>\n",
       "      <td>ok nothing special charge diamond member hilto...</td>\n",
       "      <td>2</td>\n",
       "    </tr>\n",
       "    <tr>\n",
       "      <th>2</th>\n",
       "      <td>nice rooms not 4* experience hotel monaco seat...</td>\n",
       "      <td>3</td>\n",
       "    </tr>\n",
       "    <tr>\n",
       "      <th>3</th>\n",
       "      <td>unique, great stay, wonderful time hotel monac...</td>\n",
       "      <td>5</td>\n",
       "    </tr>\n",
       "    <tr>\n",
       "      <th>4</th>\n",
       "      <td>great stay great stay, went seahawk game aweso...</td>\n",
       "      <td>5</td>\n",
       "    </tr>\n",
       "  </tbody>\n",
       "</table>\n",
       "</div>"
      ],
      "text/plain": [
       "                                              Review  Rating\n",
       "0  nice hotel expensive parking got good deal sta...       4\n",
       "1  ok nothing special charge diamond member hilto...       2\n",
       "2  nice rooms not 4* experience hotel monaco seat...       3\n",
       "3  unique, great stay, wonderful time hotel monac...       5\n",
       "4  great stay great stay, went seahawk game aweso...       5"
      ]
     },
     "execution_count": 3,
     "metadata": {},
     "output_type": "execute_result"
    }
   ],
   "source": [
    "df = pd.read_csv(\"C:/Users/meetp/Downloads/!PYTHON FILES/hotel_reviews\")\n",
    "\n",
    "df.drop(df.columns[0], axis=1, inplace=True)\n",
    "df.head()"
   ]
  },
  {
   "cell_type": "code",
   "execution_count": 9,
   "id": "78348949-7523-4ef7-80fb-5d0e4fd26905",
   "metadata": {},
   "outputs": [
    {
     "name": "stdout",
     "output_type": "stream",
     "text": [
      "<class 'pandas.core.frame.DataFrame'>\n",
      "RangeIndex: 20491 entries, 0 to 20490\n",
      "Data columns (total 2 columns):\n",
      " #   Column  Non-Null Count  Dtype \n",
      "---  ------  --------------  ----- \n",
      " 0   Review  20491 non-null  object\n",
      " 1   Rating  20491 non-null  int64 \n",
      "dtypes: int64(1), object(1)\n",
      "memory usage: 320.3+ KB\n"
     ]
    }
   ],
   "source": [
    "df.info()"
   ]
  },
  {
   "cell_type": "code",
   "execution_count": 10,
   "id": "28aa2437-e9a2-4681-825c-ce77a8461102",
   "metadata": {},
   "outputs": [
    {
     "data": {
      "text/plain": [
       "(20491, 2)"
      ]
     },
     "execution_count": 10,
     "metadata": {},
     "output_type": "execute_result"
    }
   ],
   "source": [
    "df.shape"
   ]
  },
  {
   "cell_type": "code",
   "execution_count": 11,
   "id": "a255c86f-90b5-4bee-9250-d7548c225d5c",
   "metadata": {},
   "outputs": [
    {
     "data": {
      "text/html": [
       "<div>\n",
       "<style scoped>\n",
       "    .dataframe tbody tr th:only-of-type {\n",
       "        vertical-align: middle;\n",
       "    }\n",
       "\n",
       "    .dataframe tbody tr th {\n",
       "        vertical-align: top;\n",
       "    }\n",
       "\n",
       "    .dataframe thead th {\n",
       "        text-align: right;\n",
       "    }\n",
       "</style>\n",
       "<table border=\"1\" class=\"dataframe\">\n",
       "  <thead>\n",
       "    <tr style=\"text-align: right;\">\n",
       "      <th></th>\n",
       "      <th>Rating</th>\n",
       "    </tr>\n",
       "  </thead>\n",
       "  <tbody>\n",
       "    <tr>\n",
       "      <th>count</th>\n",
       "      <td>20491.000000</td>\n",
       "    </tr>\n",
       "    <tr>\n",
       "      <th>mean</th>\n",
       "      <td>3.952223</td>\n",
       "    </tr>\n",
       "    <tr>\n",
       "      <th>std</th>\n",
       "      <td>1.233030</td>\n",
       "    </tr>\n",
       "    <tr>\n",
       "      <th>min</th>\n",
       "      <td>1.000000</td>\n",
       "    </tr>\n",
       "    <tr>\n",
       "      <th>25%</th>\n",
       "      <td>3.000000</td>\n",
       "    </tr>\n",
       "    <tr>\n",
       "      <th>50%</th>\n",
       "      <td>4.000000</td>\n",
       "    </tr>\n",
       "    <tr>\n",
       "      <th>75%</th>\n",
       "      <td>5.000000</td>\n",
       "    </tr>\n",
       "    <tr>\n",
       "      <th>max</th>\n",
       "      <td>5.000000</td>\n",
       "    </tr>\n",
       "  </tbody>\n",
       "</table>\n",
       "</div>"
      ],
      "text/plain": [
       "             Rating\n",
       "count  20491.000000\n",
       "mean       3.952223\n",
       "std        1.233030\n",
       "min        1.000000\n",
       "25%        3.000000\n",
       "50%        4.000000\n",
       "75%        5.000000\n",
       "max        5.000000"
      ]
     },
     "execution_count": 11,
     "metadata": {},
     "output_type": "execute_result"
    }
   ],
   "source": [
    "df.describe()"
   ]
  },
  {
   "cell_type": "code",
   "execution_count": 12,
   "id": "13b32ef4-d6a1-4493-ba47-99feda2c786f",
   "metadata": {},
   "outputs": [
    {
     "data": {
      "text/plain": [
       "Review    0\n",
       "Rating    0\n",
       "dtype: int64"
      ]
     },
     "execution_count": 12,
     "metadata": {},
     "output_type": "execute_result"
    }
   ],
   "source": [
    "df.isnull().sum()"
   ]
  },
  {
   "cell_type": "code",
   "execution_count": 13,
   "id": "6f31ec0c-40d9-46c2-8bfb-75d1c8c61c93",
   "metadata": {},
   "outputs": [
    {
     "data": {
      "text/plain": [
       "0"
      ]
     },
     "execution_count": 13,
     "metadata": {},
     "output_type": "execute_result"
    }
   ],
   "source": [
    "df.duplicated().sum()"
   ]
  },
  {
   "cell_type": "code",
   "execution_count": 14,
   "id": "7be05485-7bb4-44d6-bdf8-cf8e46102472",
   "metadata": {},
   "outputs": [
    {
     "data": {
      "text/plain": [
       "array([4, 2, 3, 5, 1], dtype=int64)"
      ]
     },
     "execution_count": 14,
     "metadata": {},
     "output_type": "execute_result"
    }
   ],
   "source": [
    "df['Rating'].unique()"
   ]
  },
  {
   "cell_type": "code",
   "execution_count": 15,
   "id": "aee45151-d793-41dc-a23e-4052d0d426b4",
   "metadata": {},
   "outputs": [],
   "source": [
    "df['Rating'] = df['Rating'] - 1"
   ]
  },
  {
   "cell_type": "code",
   "execution_count": 16,
   "id": "81f31b60-8b4c-4314-a19f-71152392d95d",
   "metadata": {},
   "outputs": [
    {
     "data": {
      "text/plain": [
       "array([3, 1, 2, 4, 0], dtype=int64)"
      ]
     },
     "execution_count": 16,
     "metadata": {},
     "output_type": "execute_result"
    }
   ],
   "source": [
    "df['Rating'].unique()"
   ]
  },
  {
   "cell_type": "code",
   "execution_count": 17,
   "id": "b013228d-a012-47f1-b36c-b54bd50e329c",
   "metadata": {},
   "outputs": [
    {
     "data": {
      "text/plain": [
       "array([2, 0, 1], dtype=int64)"
      ]
     },
     "execution_count": 17,
     "metadata": {},
     "output_type": "execute_result"
    }
   ],
   "source": [
    "df['Target'] = df['Rating'].apply(lambda x: 0 if x in [0, 1] else (1 if x == 2 else 2))\n",
    "df['Target'].unique()"
   ]
  },
  {
   "cell_type": "markdown",
   "id": "e0292ba5-7f15-41c8-ae54-92cc682cda3a",
   "metadata": {},
   "source": [
    "## Text Preprocssing"
   ]
  },
  {
   "cell_type": "code",
   "execution_count": 18,
   "id": "a9c5395a-ad8d-4120-aa9e-24dbab807680",
   "metadata": {},
   "outputs": [
    {
     "name": "stdout",
     "output_type": "stream",
     "text": [
      "nice hotel expensive parking got good deal stay hotel anniversary, arrived late evening took advice previous reviews did valet parking, check quick easy, little disappointed non-existent view room room clean nice size, bed comfortable woke stiff neck high pillows, not soundproof like heard music room night morning loud bangs doors opening closing hear people talking hallway, maybe just noisy neighbors, aveda bath products nice, did not goldfish stay nice touch taken advantage staying longer, location great walking distance shopping, overall nice experience having pay 40 parking night,  \n",
      "ok nothing special charge diamond member hilton decided chain shot 20th anniversary seattle, start booked suite paid extra website description not, suite bedroom bathroom standard hotel room, took printed reservation desk showed said things like tv couch ect desk clerk told oh mixed suites description kimpton website sorry free breakfast, got kidding, embassy suits sitting room bathroom bedroom unlike kimpton calls suite, 5 day stay offer correct false advertising, send kimpton preferred guest website email asking failure provide suite advertised website reservation description furnished hard copy reservation printout website desk manager duty did not reply solution, send email trip guest survey did not follow email mail, guess tell concerned guest.the staff ranged indifferent not helpful, asked desk good breakfast spots neighborhood hood told no hotels, gee best breakfast spots seattle 1/2 block away convenient hotel does not know exist, arrived late night 11 pm inside run bellman busy chating cell phone help bags.prior arrival emailed hotel inform 20th anniversary half really picky wanted make sure good, got nice email saying like deliver bottle champagne chocolate covered strawberries room arrival celebrate, told needed foam pillows, arrival no champagne strawberries no foam pillows great room view alley high rise building good not better housekeeping staff cleaner room property, impressed left morning shopping room got short trips 2 hours, beds comfortable.not good ac-heat control 4 x 4 inch screen bring green shine directly eyes night, light sensitive tape controls.this not 4 start hotel clean business hotel super high rates, better chain hotels seattle,  \n",
      "nice rooms not 4* experience hotel monaco seattle good hotel n't 4* level.positives large bathroom mediterranean suite comfortable bed pillowsattentive housekeeping staffnegatives ac unit malfunctioned stay desk disorganized, missed 3 separate wakeup calls, concierge busy hard touch, did n't provide guidance special requests.tv hard use ipod sound dock suite non functioning. decided book mediterranean suite 3 night weekend stay 1st choice rest party filled, comparison w spent 45 night larger square footage room great soaking tub whirlpool jets nice shower.before stay hotel arrange car service price 53 tip reasonable driver waiting arrival.checkin easy downside room picked 2 person jacuzi tub no bath accessories salts bubble bath did n't stay, night got 12/1a checked voucher bottle champagne nice gesture fish waiting room, impression room huge open space felt room big, tv far away bed chore change channel, ipod dock broken disappointing.in morning way asked desk check thermostat said 65f 74 2 degrees warm try cover face night bright blue light kept, got room night no, 1st drop desk, called maintainence came look thermostat told play settings happy digital box wo n't work, asked wakeup 10am morning did n't happen, called later 6pm nap wakeup forgot, 10am wakeup morning yep forgotten.the bathroom facilities great room surprised room sold whirlpool bath tub n't bath amenities, great relax water jets going,  \n",
      "unique, great stay, wonderful time hotel monaco, location excellent short stroll main downtown shopping area, pet friendly room showed no signs animal hair smells, monaco suite sleeping area big striped curtains pulled closed nice touch felt cosy, goldfish named brandi enjoyed, did n't partake free wine coffee/tea service lobby thought great feature, great staff friendly, free wireless internet hotel worked suite 2 laptops, decor lovely eclectic mix pattens color palatte, animal print bathrobes feel like rock stars, nice did n't look like sterile chain hotel hotel personality excellent stay,  \n",
      "great stay great stay, went seahawk game awesome, downfall view building did n't complain, room huge staff helpful, booked hotels website seahawk package, no charge parking got voucher taxi, problem taxi driver did n't want accept voucher barely spoke english, funny thing speak arabic called started making comments girlfriend cell phone buddy, took second realize just said fact speak language face priceless, ass told, said large city, told head doorman issue called cab company promply answer did n't, apologized offered pay taxi, bucks 2 miles stadium, game plan taxi return going humpin, great walk did n't mind, right christmas wonderful lights, homeless stowed away building entrances leave, police presence not greatest area stadium, activities 7 blocks pike street waterfront great coffee shops way, hotel mantained foyer awesome, wine tasting available evening, best dog, taking st. bernard time family, safes hotel located service desk room, bathroom huge jetted tub huge, funny house keeping walked girlfriend getting dressed, did n't hear knock doing turn service, screamed girlfriend screams hit floor laughing, started talking spanish worked, place recommend price, check online deals just good not better, besite contains deals vouchers travel websites n't tell,  \n",
      "love monaco staff husband stayed hotel crazy weekend attending memorial service best friend husband celebrating 12th wedding anniversary, talk mixed emotions, booked suite hotel monte carlos, loaned beautiful fan-tanned goldfish named joliet weekend visited dogs worked desk human companions, room decorated nicely couch used pillows, l'occitane bath amenities welcome sight, room quiet peaceful, wireless internet access wonderful server went morning leaving problems printing boarding passes, afternoon reception serves oenophile-satisfying wine australia scrumptious cookies, restaurant closed renovation stay finally ate food good drinks better, word caution restaurant larger person not sit booths wo n't fit, 5'6 125 lbs husband 5'9 175. table smack-against stomach couple inches space mighty uncomfortable patron larger pregnant, bad design opinion place decorated funky welcoming way metal wood handblown glass light fixtures expect seattle capital glass art industry, definitely stay reason,  \n",
      "cozy stay rainy city, husband spent 7 nights monaco early january 2008. business trip chance come ride.we booked monte carlo suite proved comfortable longish stay, room 905 located street building, street noise not problem view interesting rooms building look dank alley midsection large office building, suite comfortable plenty room spread, bathroom attractive squeaky clean small comparison generous proportions sitting sleeping areas, lots comfortable seating options good lighting plenty storage clothing luggage, hotel staff friendly efficient, housekeeping staff did great job pleasant, requests responded quickly.the location quite good, easy walk pike street market seattle art museum notch shopping dining options.a positive experience,  \n"
     ]
    }
   ],
   "source": [
    "for i in df['Review'][:7]:\n",
    "    print(i)"
   ]
  },
  {
   "cell_type": "code",
   "execution_count": 19,
   "id": "06979d9a-9926-45a7-9b19-fc13da0e7fcc",
   "metadata": {},
   "outputs": [
    {
     "name": "stderr",
     "output_type": "stream",
     "text": [
      "[nltk_data] Downloading package stopwords to\n",
      "[nltk_data]     C:\\Users\\meetp\\AppData\\Roaming\\nltk_data...\n",
      "[nltk_data]   Package stopwords is already up-to-date!\n"
     ]
    }
   ],
   "source": [
    "# Download stopwords if not already downloaded\n",
    "nltk.download('stopwords')\n",
    "\n",
    "lemmatizer = WordNetLemmatizer()\n",
    "stop_words = set(stopwords.words('english'))"
   ]
  },
  {
   "cell_type": "code",
   "execution_count": 20,
   "id": "99cee65a-9220-44ff-93bd-e71b87a20934",
   "metadata": {},
   "outputs": [],
   "source": [
    "def clean_text(text):\n",
    "    # Remove non-alphabetic characters (including spaces)\n",
    "    text = re.sub(r'[^a-zA-Z\\s]', ' ', text)  \n",
    "    text = text.lower() \n",
    "    text = text.split()\n",
    "    text = [lemmatizer.lemmatize(word) for word in text if word not in stop_words]\n",
    "    cleaned_text = \" \".join(text)\n",
    "    return cleaned_text\n",
    "\n",
    "df['Review_Cleaned'] = df['Review'].apply(clean_text)"
   ]
  },
  {
   "cell_type": "code",
   "execution_count": 21,
   "id": "6ba1ec44-1d31-42b3-9c0c-9933d2c444f0",
   "metadata": {},
   "outputs": [
    {
     "name": "stdout",
     "output_type": "stream",
     "text": [
      "nice hotel expensive parking got good deal stay hotel anniversary arrived late evening took advice previous review valet parking check quick easy little disappointed non existent view room room clean nice size bed comfortable woke stiff neck high pillow soundproof like heard music room night morning loud bang door opening closing hear people talking hallway maybe noisy neighbor aveda bath product nice goldfish stay nice touch taken advantage staying longer location great walking distance shopping overall nice experience pay parking night\n",
      "ok nothing special charge diamond member hilton decided chain shot th anniversary seattle start booked suite paid extra website description suite bedroom bathroom standard hotel room took printed reservation desk showed said thing like tv couch ect desk clerk told oh mixed suite description kimpton website sorry free breakfast got kidding embassy suit sitting room bathroom bedroom unlike kimpton call suite day stay offer correct false advertising send kimpton preferred guest website email asking failure provide suite advertised website reservation description furnished hard copy reservation printout website desk manager duty reply solution send email trip guest survey follow email mail guess tell concerned guest staff ranged indifferent helpful asked desk good breakfast spot neighborhood hood told hotel gee best breakfast spot seattle block away convenient hotel know exist arrived late night pm inside run bellman busy chating cell phone help bag prior arrival emailed hotel inform th anniversary half really picky wanted make sure good got nice email saying like deliver bottle champagne chocolate covered strawberry room arrival celebrate told needed foam pillow arrival champagne strawberry foam pillow great room view alley high rise building good better housekeeping staff cleaner room property impressed left morning shopping room got short trip hour bed comfortable good ac heat control x inch screen bring green shine directly eye night light sensitive tape control start hotel clean business hotel super high rate better chain hotel seattle\n",
      "nice room experience hotel monaco seattle good hotel n level positive large bathroom mediterranean suite comfortable bed pillowsattentive housekeeping staffnegatives ac unit malfunctioned stay desk disorganized missed separate wakeup call concierge busy hard touch n provide guidance special request tv hard use ipod sound dock suite non functioning decided book mediterranean suite night weekend stay st choice rest party filled comparison w spent night larger square footage room great soaking tub whirlpool jet nice shower stay hotel arrange car service price tip reasonable driver waiting arrival checkin easy downside room picked person jacuzi tub bath accessory salt bubble bath n stay night got checked voucher bottle champagne nice gesture fish waiting room impression room huge open space felt room big tv far away bed chore change channel ipod dock broken disappointing morning way asked desk check thermostat said f degree warm try cover face night bright blue light kept got room night st drop desk called maintainence came look thermostat told play setting happy digital box wo n work asked wakeup morning n happen called later pm nap wakeup forgot wakeup morning yep forgotten bathroom facility great room surprised room sold whirlpool bath tub n bath amenity great relax water jet going\n",
      "unique great stay wonderful time hotel monaco location excellent short stroll main downtown shopping area pet friendly room showed sign animal hair smell monaco suite sleeping area big striped curtain pulled closed nice touch felt cosy goldfish named brandi enjoyed n partake free wine coffee tea service lobby thought great feature great staff friendly free wireless internet hotel worked suite laptop decor lovely eclectic mix patten color palatte animal print bathrobe feel like rock star nice n look like sterile chain hotel hotel personality excellent stay\n",
      "great stay great stay went seahawk game awesome downfall view building n complain room huge staff helpful booked hotel website seahawk package charge parking got voucher taxi problem taxi driver n want accept voucher barely spoke english funny thing speak arabic called started making comment girlfriend cell phone buddy took second realize said fact speak language face priceless as told said large city told head doorman issue called cab company promply answer n apologized offered pay taxi buck mile stadium game plan taxi return going humpin great walk n mind right christmas wonderful light homeless stowed away building entrance leave police presence greatest area stadium activity block pike street waterfront great coffee shop way hotel mantained foyer awesome wine tasting available evening best dog taking st bernard time family safe hotel located service desk room bathroom huge jetted tub huge funny house keeping walked girlfriend getting dressed n hear knock turn service screamed girlfriend scream hit floor laughing started talking spanish worked place recommend price check online deal good better besite contains deal voucher travel website n tell\n",
      "love monaco staff husband stayed hotel crazy weekend attending memorial service best friend husband celebrating th wedding anniversary talk mixed emotion booked suite hotel monte carlos loaned beautiful fan tanned goldfish named joliet weekend visited dog worked desk human companion room decorated nicely couch used pillow l occitane bath amenity welcome sight room quiet peaceful wireless internet access wonderful server went morning leaving problem printing boarding pass afternoon reception serf oenophile satisfying wine australia scrumptious cooky restaurant closed renovation stay finally ate food good drink better word caution restaurant larger person sit booth wo n fit lb husband table smack stomach couple inch space mighty uncomfortable patron larger pregnant bad design opinion place decorated funky welcoming way metal wood handblown glass light fixture expect seattle capital glass art industry definitely stay reason\n",
      "cozy stay rainy city husband spent night monaco early january business trip chance come ride booked monte carlo suite proved comfortable longish stay room located street building street noise problem view interesting room building look dank alley midsection large office building suite comfortable plenty room spread bathroom attractive squeaky clean small comparison generous proportion sitting sleeping area lot comfortable seating option good lighting plenty storage clothing luggage hotel staff friendly efficient housekeeping staff great job pleasant request responded quickly location quite good easy walk pike street market seattle art museum notch shopping dining option positive experience\n",
      "excellent staff housekeeping quality hotel chocked staff make feel home experienced exceptional service desk staff concierge door men maid service need work maid failed tuck sheet foot bed instance soiled sheet used staff quickley resolved soiled sheet issue guess relates employee reflection rest staff received excellent advice concierge regarding resturants area happy hour wine tasting nice touch staff went way make feel home great location like close good food shopping took play th street theather well pike market pioneer square access mono rail short walking distance\n",
      "hotel stayed hotel monaco cruise room generous decorated uniquely hotel remodeled pacific bell building charm sturdiness everytime walked bell men felt like coming home secure great single traveler location fabulous walk thing pike market space needle little grocery drug store block away today green bravo double bed room room bed couch separated curtain snoring mom slept curtain great food nearby\n",
      "excellent stayed hotel monaco past w e delight reception staff friendly professional room smart comfortable bed particularly liked reception small dog received staff guest spoke loved mild negative distance uphill ppmarket restaurant st overall great experience\n"
     ]
    }
   ],
   "source": [
    "for i in df['Review_Cleaned'][:10]:\n",
    "    print(i)"
   ]
  },
  {
   "cell_type": "markdown",
   "id": "ec1e6f9f-31af-463d-9cf8-f82fd8063945",
   "metadata": {},
   "source": [
    "## "
   ]
  },
  {
   "cell_type": "markdown",
   "id": "6f73e097-9f57-4267-aff0-19c2491f3938",
   "metadata": {},
   "source": [
    "## EDA"
   ]
  },
  {
   "cell_type": "markdown",
   "id": "6dede330-6af7-4130-b8b8-95f236ce9da9",
   "metadata": {},
   "source": [
    "### Rating Count of Distribution"
   ]
  },
  {
   "cell_type": "code",
   "execution_count": 22,
   "id": "b6118af2-13a2-4b8d-9ee6-d725c1c4aafb",
   "metadata": {},
   "outputs": [
    {
     "data": {
      "image/png": "[encoded data removed]",
      "text/plain": [
       "<Figure size 1000x600 with 1 Axes>"
      ]
     },
     "metadata": {},
     "output_type": "display_data"
    }
   ],
   "source": [
    "plt.figure(figsize=(10, 6))\n",
    "ax = sns.countplot(data=df, x='Rating', palette='viridis', edgecolor='black', linewidth=1)\n",
    "\n",
    "# Add labels to the bars\n",
    "for p in ax.patches:\n",
    "    ax.annotate(format(p.get_height(), '.0f'), \n",
    "                (p.get_x() + p.get_width() / 2., p.get_height()), \n",
    "                ha = 'center', va = 'center', \n",
    "                xytext = (0, 5), \n",
    "                textcoords = 'offset points')\n",
    "\n",
    "plt.title('Count of Ratings')\n",
    "plt.xlabel('Rating')\n",
    "plt.ylabel('Count')\n",
    "plt.show()"
   ]
  },
  {
   "cell_type": "markdown",
   "id": "2b6a378a-becb-4656-8463-039247600b70",
   "metadata": {},
   "source": [
    "* From above visual, we can say that count of ratings for 4, 5 are comparatively higher than the other rating scores. \n",
    "* Hence, we can say from our data that most of the users fairly satisfied but there maybe some areas to improve in experience at hotels"
   ]
  },
  {
   "cell_type": "markdown",
   "id": "b600d406-2fd6-4903-84ee-2121626c4258",
   "metadata": {},
   "source": [
    "## Rating Percent of Distribution"
   ]
  },
  {
   "cell_type": "code",
   "execution_count": 23,
   "id": "3150bf2e-aa84-40d6-b3e4-8c4bfaed8ca4",
   "metadata": {},
   "outputs": [
    {
     "data": {
      "image/png": "[encoded data removed]",
      "text/plain": [
       "<Figure size 640x480 with 1 Axes>"
      ]
     },
     "metadata": {},
     "output_type": "display_data"
    }
   ],
   "source": [
    "import matplotlib.pyplot as plt\n",
    "\n",
    "# Data\n",
    "ratings = df['Rating'].value_counts()\n",
    "labels = ['5 Stars', '4 Stars', '3 Stars', '2 Stars', '1 Star']\n",
    "explode = [0.03, 0.02, 0.0, 0.0, 0.0]\n",
    "colors = ['#ff9999','#66b3ff','#99ff99','#ffcc99', '#c2c2f0']  # Custom colors for each category\n",
    "\n",
    "# Plot\n",
    "fig, ax = plt.subplots()\n",
    "ax.pie(ratings, autopct='%0.2f%%', labels=labels, explode=explode, startangle=90, colors=colors)\n",
    "ax.set_title('Overall Ratings Distribution\\n', fontsize=16)\n",
    "ax.axis('equal')  # Equal aspect ratio ensures that pie is drawn as a circle\n",
    "\n",
    "# Add legend\n",
    "plt.legend(loc='upper left', bbox_to_anchor=(1, 0.8))\n",
    "\n",
    "# Show plot\n",
    "plt.show()\n"
   ]
  },
  {
   "cell_type": "markdown",
   "id": "f0bfeccd-f632-4858-bbc0-489ba750c6bc",
   "metadata": {},
   "source": [
    "* From above visual, we can say that almost 75% of reviews are rated (5, 4) by users and remaining 25% reviews are rated (3, 2, 1).\n",
    "* We have an unequal distribution of data, where we have some negative ratings provided by users.\n",
    "* Hence, our dataset is a bit imbalanced"
   ]
  },
  {
   "cell_type": "markdown",
   "id": "1aa4f713-4f29-4726-85da-5c0c8228c602",
   "metadata": {},
   "source": [
    "## "
   ]
  },
  {
   "cell_type": "markdown",
   "id": "0eb9de41-ce6f-4ccd-8d8b-82da201a86fe",
   "metadata": {},
   "source": [
    "## NLP based Classification"
   ]
  },
  {
   "cell_type": "code",
   "execution_count": 25,
   "id": "70970bd8-0c3e-4b65-b67e-baa43c97421d",
   "metadata": {},
   "outputs": [],
   "source": [
    "df1 = df.copy()"
   ]
  },
  {
   "cell_type": "code",
   "execution_count": 26,
   "id": "af169cbd-fd70-4e3a-83bc-3e651e12ffb2",
   "metadata": {},
   "outputs": [],
   "source": [
    "X = df1[['Review_Cleaned']]\n",
    "y = df1['Rating']\n",
    "#y = to_categorical(df1[\"Rating\"])\n",
    "\n",
    "#y = df1['Target']"
   ]
  },
  {
   "cell_type": "code",
   "execution_count": 27,
   "id": "7abde5b4-dbc4-4dcd-8b7e-6d5d763f7d57",
   "metadata": {},
   "outputs": [
    {
     "data": {
      "text/plain": [
       "Rating\n",
       "4    9054\n",
       "3    6039\n",
       "2    2184\n",
       "1    1793\n",
       "0    1421\n",
       "Name: count, dtype: int64"
      ]
     },
     "execution_count": 27,
     "metadata": {},
     "output_type": "execute_result"
    }
   ],
   "source": [
    "y.value_counts()"
   ]
  },
  {
   "cell_type": "code",
   "execution_count": 28,
   "id": "ff6d862f-2ec6-4691-ad2a-79cbf99e0cdb",
   "metadata": {},
   "outputs": [],
   "source": [
    "# Tokenize the text data\n",
    "#tokenizer = nltk.tokenize.RegexpTokenizer(r'\\w+')\n",
    "#X['Review_tokens'] = X['Review_Cleaned'].apply(lambda x: tokenizer.tokenize(x.lower()))\n",
    "\n",
    "# Calculate Vocabulary Size\n",
    "#all_tokens = [token for tokens in X['Review_tokens'] for token in tokens]\n",
    "#vocab_size = len(set(all_tokens))\n",
    "\n",
    "# Determine Maximum Length of Sequence\n",
    "#max_length = max(len(tokens) for tokens in X['Review_tokens'])\n",
    "\n",
    "# Determine Number of Classes\n",
    "#num_classes = len(set(y))\n",
    "\n",
    "#print(\"Vocabulary Size:\", vocab_size)\n",
    "#print(\"Maximum Length of Sequence:\", max_length)\n",
    "#print(\"Number of Classes:\", num_classes)\n",
    "\n",
    "#vocab_size = 44778\n",
    "#max_length = 1889\n",
    "#num_classes = 3\n",
    "#embedding_dim = 100\n",
    "\n",
    "vocab_size = 44778\n",
    "max_length = 1889\n",
    "num_classes = 5\n",
    "embedding_dim = 100"
   ]
  },
  {
   "cell_type": "code",
   "execution_count": 31,
   "id": "e6507f60-d56c-4a62-961a-3c466e71d71e",
   "metadata": {},
   "outputs": [],
   "source": [
    "GRU_tokenizer = Tokenizer(num_words=vocab_size)\n",
    "GRU_tokenizer.fit_on_texts(X['Review_Cleaned'])\n",
    "X_sequences = GRU_tokenizer.texts_to_sequences(X['Review_Cleaned'])\n",
    "X_padded = pad_sequences(X_sequences, maxlen=max_length)"
   ]
  },
  {
   "cell_type": "code",
   "execution_count": 32,
   "id": "7327ffc1-4d1f-4f96-8fa9-a151d2c68ab1",
   "metadata": {},
   "outputs": [
    {
     "data": {
      "text/plain": [
       "array([[   0,    0,    0, ...,  177,  216,    8],\n",
       "       [   0,    0,    0, ...,  794,    1,  516],\n",
       "       [   0,    0,    0, ...,   42, 1665,   83],\n",
       "       ...,\n",
       "       [   0,    0,    0, ...,  390, 1464,  999],\n",
       "       [   0,    0,    0, ...,  320, 4658, 3646],\n",
       "       [   0,    0,    0, ...,  157,  125,   20]])"
      ]
     },
     "execution_count": 32,
     "metadata": {},
     "output_type": "execute_result"
    }
   ],
   "source": [
    "X_padded"
   ]
  },
  {
   "cell_type": "code",
   "execution_count": 33,
   "id": "035d540f-e134-4901-92f9-970ecb108356",
   "metadata": {},
   "outputs": [],
   "source": [
    "ros = RandomOverSampler(random_state=0)\n",
    "X_balanced, y_balanced = ros.fit_resample(X_padded, y)"
   ]
  },
  {
   "cell_type": "code",
   "execution_count": 34,
   "id": "64bb14f4-1d58-48d4-952f-8576784445ab",
   "metadata": {},
   "outputs": [
    {
     "data": {
      "text/plain": [
       "array([[   0,    0,    0, ...,  177,  216,    8],\n",
       "       [   0,    0,    0, ...,  794,    1,  516],\n",
       "       [   0,    0,    0, ...,   42, 1665,   83],\n",
       "       ...,\n",
       "       [   0,    0,    0, ...,  149,  217,  391],\n",
       "       [   0,    0,    0, ...,    3,    1,  149],\n",
       "       [   0,    0,    0, ...,    1,    3,   13]])"
      ]
     },
     "execution_count": 34,
     "metadata": {},
     "output_type": "execute_result"
    }
   ],
   "source": [
    "X_balanced"
   ]
  },
  {
   "cell_type": "code",
   "execution_count": 35,
   "id": "bded3a44-3eaa-45d0-b7d2-e2a728f7299a",
   "metadata": {},
   "outputs": [
    {
     "name": "stdout",
     "output_type": "stream",
     "text": [
      "Counter({4: 9054, 3: 6039, 2: 2184, 1: 1793, 0: 1421})\n",
      "Counter({3: 9054, 1: 9054, 2: 9054, 4: 9054, 0: 9054})\n"
     ]
    }
   ],
   "source": [
    "from collections import Counter\n",
    "\n",
    "# Check the class distribution after resampling\n",
    "print(Counter(y))\n",
    "print(Counter(y_balanced))"
   ]
  },
  {
   "cell_type": "code",
   "execution_count": 36,
   "id": "4099e71c-198c-4ad4-951b-f7374696e7f1",
   "metadata": {},
   "outputs": [],
   "source": [
    "X_train, X_test, y_train, y_test = train_test_split(X_balanced, y_balanced, test_size=0.2, random_state=42, stratify = y_balanced)"
   ]
  },
  {
   "cell_type": "code",
   "execution_count": 37,
   "id": "c9f7c0a4-2370-44f4-bd99-a4a378c72058",
   "metadata": {},
   "outputs": [
    {
     "data": {
      "text/plain": [
       "((36216, 1889), (9054, 1889), (36216,), (9054,))"
      ]
     },
     "execution_count": 37,
     "metadata": {},
     "output_type": "execute_result"
    }
   ],
   "source": [
    "X_train.shape, X_test.shape, y_train.shape, y_test.shape"
   ]
  },
  {
   "cell_type": "markdown",
   "id": "59110330-3c96-4045-98bc-a229ecd3d15e",
   "metadata": {},
   "source": [
    "## "
   ]
  },
  {
   "cell_type": "markdown",
   "id": "e8649a8f-31e0-45c0-83b4-5a51876b88b5",
   "metadata": {},
   "source": [
    "### GRU "
   ]
  },
  {
   "cell_type": "code",
   "execution_count": 38,
   "id": "ec0b37b9-07a7-43fe-a669-2bd288e9e471",
   "metadata": {},
   "outputs": [
    {
     "name": "stdout",
     "output_type": "stream",
     "text": [
      "Model: \"sequential\"\n",
      "_________________________________________________________________\n",
      " Layer (type)                Output Shape              Param #   \n",
      "=================================================================\n",
      " embedding (Embedding)       (None, 1889, 100)         4477800   \n",
      "                                                                 \n",
      " spatial_dropout1d (SpatialD  (None, 1889, 100)        0         \n",
      " ropout1D)                                                       \n",
      "                                                                 \n",
      " gru (GRU)                   (None, 100)               60600     \n",
      "                                                                 \n",
      " dropout (Dropout)           (None, 100)               0         \n",
      "                                                                 \n",
      " dense (Dense)               (None, 5)                 505       \n",
      "                                                                 \n",
      "=================================================================\n",
      "Total params: 4,538,905\n",
      "Trainable params: 4,538,905\n",
      "Non-trainable params: 0\n",
      "_________________________________________________________________\n"
     ]
    }
   ],
   "source": [
    "import random\n",
    "from keras.layers import LSTM, Bidirectional, GRU\n",
    "\n",
    "tf.random.set_seed(1)\n",
    "tf.keras.utils.set_random_seed(1)\n",
    "gru = Sequential()\n",
    "gru.add(Embedding(input_dim=vocab_size, output_dim=embedding_dim, input_length=max_length))\n",
    "gru.add(SpatialDropout1D(0.3))\n",
    "gru.add(GRU(100, dropout=0.3)) \n",
    "gru.add(Dropout(0.3))\n",
    "gru.add(Dense(5, activation='softmax'))\n",
    "gru.summary()"
   ]
  },
  {
   "cell_type": "code",
   "execution_count": 39,
   "id": "ed664e3a-c589-459e-a1af-281c164858c5",
   "metadata": {},
   "outputs": [],
   "source": [
    "optimizer = Adam(learning_rate=0.01)\n",
    "#optimizer = RMSprop()\n",
    "\n",
    "gru.compile(loss='sparse_categorical_crossentropy', metrics=['accuracy'], optimizer = optimizer)"
   ]
  },
  {
   "cell_type": "code",
   "execution_count": 40,
   "id": "83fb861c-1f7a-49ab-84df-4b02caabaab7",
   "metadata": {},
   "outputs": [
    {
     "name": "stdout",
     "output_type": "stream",
     "text": [
      "Epoch 1/2\n",
      "283/283 [==============================] - 73s 249ms/step - loss: 0.8633 - accuracy: 0.6328 - val_loss: 0.4666 - val_accuracy: 0.8132\n",
      "Epoch 2/2\n",
      "283/283 [==============================] - 70s 248ms/step - loss: 0.3692 - accuracy: 0.8538 - val_loss: 0.3846 - val_accuracy: 0.8474\n"
     ]
    },
    {
     "data": {
      "text/plain": [
       "<keras.callbacks.History at 0x15b9697cf70>"
      ]
     },
     "execution_count": 40,
     "metadata": {},
     "output_type": "execute_result"
    }
   ],
   "source": [
    "early_stopping = EarlyStopping(monitor='val_loss', patience=2, restore_best_weights=True)\n",
    "\n",
    "gru.fit(X_train, y_train, epochs=2, batch_size=128, validation_data=(X_test, y_test), callbacks = [early_stopping])"
   ]
  },
  {
   "cell_type": "code",
   "execution_count": 41,
   "id": "c13afb90-282d-42cd-a394-9ba2517aa4bd",
   "metadata": {},
   "outputs": [],
   "source": [
    "from tensorflow.keras.models import save_model\n",
    "\n",
    "#gru.save('GRU_Model.h5')"
   ]
  },
  {
   "cell_type": "markdown",
   "id": "5a69f9e8-26a5-448e-a479-bff26e5680bb",
   "metadata": {},
   "source": [
    "## "
   ]
  },
  {
   "cell_type": "markdown",
   "id": "a15acf76-e34b-4f07-ac0c-4a8026f2d789",
   "metadata": {},
   "source": [
    "### Prediction and Evaluation"
   ]
  },
  {
   "cell_type": "markdown",
   "id": "72042f68-d47e-46c7-a7f4-4f0a44989d33",
   "metadata": {},
   "source": [
    "#### 1) internal random data predictions"
   ]
  },
  {
   "cell_type": "code",
   "execution_count": 42,
   "id": "45cbe667-084a-4a18-a9bc-6969080f28da",
   "metadata": {},
   "outputs": [],
   "source": [
    "X_subset, _, y_subset, _ = train_test_split(X_padded, y, train_size=100, stratify=y)"
   ]
  },
  {
   "cell_type": "code",
   "execution_count": 43,
   "id": "64e7d67d-e92e-41cc-938a-b060c1eabd71",
   "metadata": {},
   "outputs": [],
   "source": [
    "from tensorflow.keras.models import load_model\n",
    "\n",
    "# Load the saved model\n",
    "loaded_model = load_model('GRU_Model.h5')"
   ]
  },
  {
   "cell_type": "code",
   "execution_count": 44,
   "id": "1e66bc2f-dea7-4ec2-b971-eaf357b81d4a",
   "metadata": {},
   "outputs": [
    {
     "name": "stdout",
     "output_type": "stream",
     "text": [
      "4/4 [==============================] - 1s 109ms/step\n"
     ]
    },
    {
     "data": {
      "text/plain": [
       "array([1, 2, 3, 0, 1, 4, 3, 4, 4, 1, 1, 4, 3, 4, 4, 4, 0, 1, 2, 1, 4, 2,\n",
       "       3, 0, 4, 3, 4, 1, 3, 0, 4, 3, 4, 4, 2, 1, 4, 4, 4, 3, 2, 0, 3, 4,\n",
       "       2, 4, 4, 4, 4, 4, 4, 3, 4, 3, 3, 4, 3, 3, 4, 3, 4, 4, 4, 4, 2, 4,\n",
       "       4, 2, 3, 4, 2, 2, 4, 4, 4, 4, 3, 4, 1, 3, 3, 4, 0, 2, 3, 4, 4, 4,\n",
       "       3, 4, 3, 4, 4, 0, 3, 4, 4, 4, 4, 4], dtype=int64)"
      ]
     },
     "execution_count": 44,
     "metadata": {},
     "output_type": "execute_result"
    }
   ],
   "source": [
    "y_pred = np.argmax(loaded_model.predict(X_subset),axis = 1)\n",
    "y_pred"
   ]
  },
  {
   "cell_type": "code",
   "execution_count": 45,
   "id": "4d040f86-ce9b-48b9-8c54-09c9b927ab76",
   "metadata": {},
   "outputs": [
    {
     "data": {
      "text/plain": [
       "array([1, 2, 3, 0, 1, 4, 3, 4, 4, 1, 1, 4, 3, 3, 4, 4, 0, 1, 2, 1, 4, 2,\n",
       "       3, 0, 4, 3, 4, 1, 3, 0, 4, 3, 4, 4, 2, 1, 4, 4, 4, 4, 2, 0, 3, 3,\n",
       "       2, 4, 4, 3, 4, 3, 3, 3, 3, 3, 3, 4, 3, 3, 4, 3, 4, 4, 4, 4, 2, 4,\n",
       "       4, 2, 3, 4, 2, 2, 4, 4, 4, 4, 3, 4, 1, 3, 3, 4, 0, 2, 3, 4, 3, 4,\n",
       "       3, 4, 3, 4, 4, 0, 3, 4, 4, 4, 4, 4], dtype=int64)"
      ]
     },
     "execution_count": 45,
     "metadata": {},
     "output_type": "execute_result"
    }
   ],
   "source": [
    "y_subset.values"
   ]
  },
  {
   "cell_type": "code",
   "execution_count": 46,
   "id": "a205a1ba-2eaa-4dca-8d25-3ed4cb46bb3f",
   "metadata": {},
   "outputs": [
    {
     "name": "stdout",
     "output_type": "stream",
     "text": [
      "4/4 [==============================] - 1s 70ms/step - loss: 0.2228 - accuracy: 0.9200\n",
      "Test Loss: 0.22275906801223755, Test Accuracy: 0.9200000166893005\n"
     ]
    }
   ],
   "source": [
    "# Evaluate the model\n",
    "loss, accuracy = loaded_model.evaluate(X_subset, y_subset)\n",
    "print(f'Test Loss: {loss}, Test Accuracy: {accuracy}')"
   ]
  },
  {
   "cell_type": "code",
   "execution_count": 47,
   "id": "e858b8a7-4d38-4a0c-86df-02e6f301aea8",
   "metadata": {},
   "outputs": [
    {
     "name": "stdout",
     "output_type": "stream",
     "text": [
      "              precision    recall  f1-score   support\n",
      "\n",
      "           0       1.00      1.00      1.00         7\n",
      "           1       1.00      1.00      1.00         9\n",
      "           2       1.00      1.00      1.00        11\n",
      "           3       0.96      0.76      0.85        29\n",
      "           4       0.86      0.98      0.91        44\n",
      "\n",
      "    accuracy                           0.92       100\n",
      "   macro avg       0.96      0.95      0.95       100\n",
      "weighted avg       0.93      0.92      0.92       100\n",
      "\n",
      "Classification Report:\n",
      "[[ 7  0  0  0  0]\n",
      " [ 0  9  0  0  0]\n",
      " [ 0  0 11  0  0]\n",
      " [ 0  0  0 22  7]\n",
      " [ 0  0  0  1 43]]\n",
      "Confusion Matrix:\n"
     ]
    }
   ],
   "source": [
    "print(classification_report(y_subset, y_pred))\n",
    "print(\"Classification Report:\")\n",
    "\n",
    "print(confusion_matrix(y_subset, y_pred))\n",
    "print(\"Confusion Matrix:\")"
   ]
  },
  {
   "cell_type": "markdown",
   "id": "2887962e-6ba0-4128-85ec-84f41a905538",
   "metadata": {},
   "source": [
    "## "
   ]
  },
  {
   "cell_type": "markdown",
   "id": "f59b8c26-a9d1-450d-8326-0f220145b8c6",
   "metadata": {},
   "source": [
    "### Custom Ai Generated review predictions"
   ]
  },
  {
   "cell_type": "code",
   "execution_count": 62,
   "id": "988a8528-50a8-4a53-80d5-c7aa3de95821",
   "metadata": {},
   "outputs": [],
   "source": [
    "reviews = [\n",
    "    \"This hotel was amazing! Great service and comfortable rooms.\",\n",
    "    \"The hotel staff was friendly, but the room was not very clean.\",\n",
    "    \"Average hotel. Nothing special, but it served its purpose.\",\n",
    "    \"I loved my stay at this hotel. The location was perfect and the staff was helpful.\",\n",
    "    \"Best service! The staff went above and beyond to make our stay enjoyable.\",\n",
    "    \"Hotel was not worth the price. The amenities were lacking and the room had outdated furniture.\",\n",
    "    \"Good hotel overall. Clean rooms and convenient location.\",\n",
    "    \"Worst experience at this hotel. The room was dirty and the staff was rude\",\n",
    "    \"Terrible experience! The staff was rude and unhelpful. The room smelled bad and was not clean.\"\n",
    "]\n",
    "\n",
    "# Corresponding ratings\n",
    "ratings = [4, 3, 2, 3, 4, 1, 2, 0, 0]\n",
    "#ratings2 = [2, 2, 1, 2, 2, 1, 1, 0, 0, 0]\n",
    "\n",
    "# Create DataFrame\n",
    "df_review = pd.DataFrame({\n",
    "    'Review': reviews,\n",
    "    'Rating': ratings\n",
    "})\n",
    "\n",
    "\n",
    "X = df_review['Review']\n",
    "y = df_review['Rating']"
   ]
  },
  {
   "cell_type": "code",
   "execution_count": 63,
   "id": "2e2be5de-3223-44b8-b9db-dc71c890dc06",
   "metadata": {},
   "outputs": [
    {
     "data": {
      "text/html": [
       "<div>\n",
       "<style scoped>\n",
       "    .dataframe tbody tr th:only-of-type {\n",
       "        vertical-align: middle;\n",
       "    }\n",
       "\n",
       "    .dataframe tbody tr th {\n",
       "        vertical-align: top;\n",
       "    }\n",
       "\n",
       "    .dataframe thead th {\n",
       "        text-align: right;\n",
       "    }\n",
       "</style>\n",
       "<table border=\"1\" class=\"dataframe\">\n",
       "  <thead>\n",
       "    <tr style=\"text-align: right;\">\n",
       "      <th></th>\n",
       "      <th>Review</th>\n",
       "      <th>Rating</th>\n",
       "    </tr>\n",
       "  </thead>\n",
       "  <tbody>\n",
       "    <tr>\n",
       "      <th>0</th>\n",
       "      <td>This hotel was amazing! Great service and comf...</td>\n",
       "      <td>4</td>\n",
       "    </tr>\n",
       "    <tr>\n",
       "      <th>1</th>\n",
       "      <td>The hotel staff was friendly, but the room was...</td>\n",
       "      <td>3</td>\n",
       "    </tr>\n",
       "    <tr>\n",
       "      <th>2</th>\n",
       "      <td>Average hotel. Nothing special, but it served ...</td>\n",
       "      <td>2</td>\n",
       "    </tr>\n",
       "    <tr>\n",
       "      <th>3</th>\n",
       "      <td>I loved my stay at this hotel. The location wa...</td>\n",
       "      <td>3</td>\n",
       "    </tr>\n",
       "    <tr>\n",
       "      <th>4</th>\n",
       "      <td>Best service! The staff went above and beyond ...</td>\n",
       "      <td>4</td>\n",
       "    </tr>\n",
       "    <tr>\n",
       "      <th>5</th>\n",
       "      <td>Hotel was not worth the price. The amenities w...</td>\n",
       "      <td>1</td>\n",
       "    </tr>\n",
       "    <tr>\n",
       "      <th>6</th>\n",
       "      <td>Good hotel overall. Clean rooms and convenient...</td>\n",
       "      <td>2</td>\n",
       "    </tr>\n",
       "    <tr>\n",
       "      <th>7</th>\n",
       "      <td>Worst experience at this hotel. The room was d...</td>\n",
       "      <td>0</td>\n",
       "    </tr>\n",
       "    <tr>\n",
       "      <th>8</th>\n",
       "      <td>Terrible experience! The staff was rude and un...</td>\n",
       "      <td>0</td>\n",
       "    </tr>\n",
       "  </tbody>\n",
       "</table>\n",
       "</div>"
      ],
      "text/plain": [
       "                                              Review  Rating\n",
       "0  This hotel was amazing! Great service and comf...       4\n",
       "1  The hotel staff was friendly, but the room was...       3\n",
       "2  Average hotel. Nothing special, but it served ...       2\n",
       "3  I loved my stay at this hotel. The location wa...       3\n",
       "4  Best service! The staff went above and beyond ...       4\n",
       "5  Hotel was not worth the price. The amenities w...       1\n",
       "6  Good hotel overall. Clean rooms and convenient...       2\n",
       "7  Worst experience at this hotel. The room was d...       0\n",
       "8  Terrible experience! The staff was rude and un...       0"
      ]
     },
     "execution_count": 63,
     "metadata": {},
     "output_type": "execute_result"
    }
   ],
   "source": [
    "df_review"
   ]
  },
  {
   "cell_type": "code",
   "execution_count": 64,
   "id": "f549206d-bbea-4d37-bd20-06d89fc78def",
   "metadata": {},
   "outputs": [],
   "source": [
    "import random\n",
    "from nltk.tokenize import word_tokenize\n",
    "from tensorflow.keras.preprocessing.text import Tokenizer\n",
    "from tensorflow.keras.preprocessing.sequence import pad_sequences\n",
    "\n",
    "class Preprocessor:\n",
    "    def __init__(self):\n",
    "        self.stop_words = set(stopwords.words('english'))\n",
    "        self.lemmatizer = WordNetLemmatizer()\n",
    "        self.tokenizer = GRU_tokenizer\n",
    "        \n",
    "    def clean_text(self, text):\n",
    "        # Remove non-alphabetic characters (including spaces)\n",
    "        text = re.sub(r'[^a-zA-Z\\s]', ' ', text)  \n",
    "        text = text.lower() \n",
    "        tokens = word_tokenize(text)\n",
    "        tokens = [self.lemmatizer.lemmatize(word) for word in tokens if word not in self.stop_words]\n",
    "        cleaned_text = \" \".join(tokens)\n",
    "        return cleaned_text\n",
    "        \n",
    "    def fit_transform(self, X):\n",
    "        X_cleaned = [self.clean_text(text) for text in X]\n",
    "        X_sequences = self.tokenizer.texts_to_sequences(X_cleaned)\n",
    "        X_padded = pad_sequences(X_sequences, maxlen=1889, padding='pre')\n",
    "        return X_padded"
   ]
  },
  {
   "cell_type": "code",
   "execution_count": 65,
   "id": "18028a49-e21d-4012-bdfd-5a9cb708cc46",
   "metadata": {},
   "outputs": [
    {
     "data": {
      "text/plain": [
       "array([[   0,    0,    0, ...,   13,   52,    2],\n",
       "       [   0,    0,    0, ...,   28,    2,   19],\n",
       "       [   0,    0,    0, ...,  265,  363, 1843],\n",
       "       ...,\n",
       "       [   0,    0,    0, ...,    2,  294,   12],\n",
       "       [   0,    0,    0, ...,  483,    6,  494],\n",
       "       [   0,    0,    0, ..., 1123,   96,   19]])"
      ]
     },
     "execution_count": 65,
     "metadata": {},
     "output_type": "execute_result"
    }
   ],
   "source": [
    "preprocess = Preprocessor()\n",
    "\n",
    "X_padded = preprocess.fit_transform(X)\n",
    "X_padded"
   ]
  },
  {
   "cell_type": "code",
   "execution_count": 176,
   "id": "f504e642-f4f4-4c00-8158-7f2fa54a945e",
   "metadata": {},
   "outputs": [
    {
     "data": {
      "text/plain": [
       "['GRU_Preprocessor']"
      ]
     },
     "execution_count": 176,
     "metadata": {},
     "output_type": "execute_result"
    }
   ],
   "source": [
    "import joblib\n",
    "\n",
    "joblib.dump(preprocess, \"GRU_Preprocessor\")"
   ]
  },
  {
   "cell_type": "markdown",
   "id": "58f84714-2c20-478d-84a0-9757e67396d4",
   "metadata": {},
   "source": [
    "## "
   ]
  },
  {
   "cell_type": "code",
   "execution_count": 177,
   "id": "27bf14c1-b2dc-4b04-b7b1-6330b9e67c16",
   "metadata": {},
   "outputs": [],
   "source": [
    "from tensorflow.keras.models import load_model\n",
    "\n",
    "# Load the saved model\n",
    "preprocess = joblib.load(\"GRU_Preprocessor\")\n",
    "loaded_model = load_model('GRU_Model.h5')"
   ]
  },
  {
   "cell_type": "code",
   "execution_count": 67,
   "id": "ca1268ba-813a-4999-9d77-58eedf872dfb",
   "metadata": {},
   "outputs": [
    {
     "name": "stdout",
     "output_type": "stream",
     "text": [
      "1/1 [==============================] - 0s 305ms/step\n"
     ]
    },
    {
     "data": {
      "text/plain": [
       "array([4, 3, 2, 4, 4, 1, 3, 0, 0], dtype=int64)"
      ]
     },
     "execution_count": 67,
     "metadata": {},
     "output_type": "execute_result"
    }
   ],
   "source": [
    "y_pred = np.argmax(loaded_model.predict(X_padded),axis = 1)\n",
    "y_pred"
   ]
  },
  {
   "cell_type": "code",
   "execution_count": 68,
   "id": "75d07caf-1501-4db0-ac2e-1959356e93eb",
   "metadata": {},
   "outputs": [
    {
     "data": {
      "text/plain": [
       "array([4, 3, 2, 3, 4, 1, 2, 0, 0], dtype=int64)"
      ]
     },
     "execution_count": 68,
     "metadata": {},
     "output_type": "execute_result"
    }
   ],
   "source": [
    "y.values"
   ]
  },
  {
   "cell_type": "code",
   "execution_count": 69,
   "id": "1f141306-6166-4e8d-a46e-2d2bfb59a7ea",
   "metadata": {},
   "outputs": [
    {
     "name": "stdout",
     "output_type": "stream",
     "text": [
      "              precision    recall  f1-score   support\n",
      "\n",
      "           0       1.00      1.00      1.00         2\n",
      "           1       1.00      1.00      1.00         1\n",
      "           2       1.00      0.50      0.67         2\n",
      "           3       0.50      0.50      0.50         2\n",
      "           4       0.67      1.00      0.80         2\n",
      "\n",
      "    accuracy                           0.78         9\n",
      "   macro avg       0.83      0.80      0.79         9\n",
      "weighted avg       0.81      0.78      0.77         9\n",
      "\n",
      "Classification Report:\n",
      "[[2 0 0 0 0]\n",
      " [0 1 0 0 0]\n",
      " [0 0 1 1 0]\n",
      " [0 0 0 1 1]\n",
      " [0 0 0 0 2]]\n",
      "Confusion Matrix:\n"
     ]
    }
   ],
   "source": [
    "print(classification_report(y, y_pred))\n",
    "print(\"Classification Report:\")\n",
    "\n",
    "print(confusion_matrix(y, y_pred))\n",
    "print(\"Confusion Matrix:\")"
   ]
  },
  {
   "cell_type": "markdown",
   "id": "966a310e-ddf6-4af4-894c-7ee6641dab8e",
   "metadata": {},
   "source": [
    "### Testing with Real Reviews from TripAdvisor Website"
   ]
  },
  {
   "cell_type": "code",
   "execution_count": 70,
   "id": "4cf56993-d518-45bd-8294-4612dc8e72cf",
   "metadata": {},
   "outputs": [
    {
     "name": "stdout",
     "output_type": "stream",
     "text": [
      "1/1 [==============================] - 0s 110ms/step\n"
     ]
    },
    {
     "data": {
      "text/plain": [
       "array([4], dtype=int64)"
      ]
     },
     "execution_count": 70,
     "metadata": {},
     "output_type": "execute_result"
    }
   ],
   "source": [
    "input = \"\"\"\n",
    "The hotel location, staff and food were excellent. We had not expected to stay in Mumbai and hope we will return.\n",
    "The room was spotless with partial sea view a joy to wake up to each morning.\n",
    "The staff were extremely helpful and considerate as my husband had been in hospital unexpectedly and we came for him to recuperate - could not have asked for more. They made suggestions for places to see and eat, booked taxis when needed and helped us enjoy Mumbai In difficult circumstances.\n",
    "Thank you all staff!\n",
    "\"\"\"\n",
    "\n",
    "input_padded = preprocess.fit_transform([input])\n",
    "y_pred = np.argmax(loaded_model.predict(input_padded),axis = 1)\n",
    "y_pred"
   ]
  },
  {
   "cell_type": "code",
   "execution_count": 83,
   "id": "ee3a3c40-258c-4965-b603-4529363b9eda",
   "metadata": {},
   "outputs": [
    {
     "name": "stdout",
     "output_type": "stream",
     "text": [
      "1/1 [==============================] - 0s 105ms/step\n"
     ]
    },
    {
     "data": {
      "text/plain": [
       "array([3], dtype=int64)"
      ]
     },
     "execution_count": 83,
     "metadata": {},
     "output_type": "execute_result"
    }
   ],
   "source": [
    "input = \"\"\"\n",
    "We stayed here as part of a wedding party and as our first trip to India we were very pleased. The staff from reception to housekeeping and the restaurant were very kind and helpful. We found the nightly dinner buffet to be quite varied and delicious. Breakfast was also a treat. Our room was large and well equipped. Housekeeping kept us fully stocked with bottled water and any thing else we needed\n",
    "\"\"\"\n",
    "\n",
    "input_padded = preprocess.fit_transform([input])\n",
    "y_pred = np.argmax(loaded_model.predict(input_padded),axis = 1)\n",
    "y_pred"
   ]
  },
  {
   "cell_type": "code",
   "execution_count": 82,
   "id": "90d6f03b-44b4-458f-a06e-11822e3bfad9",
   "metadata": {},
   "outputs": [
    {
     "name": "stdout",
     "output_type": "stream",
     "text": [
      "1/1 [==============================] - 0s 128ms/step\n"
     ]
    },
    {
     "data": {
      "text/plain": [
       "array([2], dtype=int64)"
      ]
     },
     "execution_count": 82,
     "metadata": {},
     "output_type": "execute_result"
    }
   ],
   "source": [
    "input = \"\"\"\n",
    "It's located centrally, right on Juhu beach. The views from the room are good, but chilling by the pool, especially at sunset is a wonderful experience. The property sits slightly further away from the busy sections of Juhu beach, with direct access to the beach from the pool area. The staff are courteous and helpful. The rooms are just about big enough for 3 persons. The housekeeping staff & concierge staff are friendly and efficient in their work.\n",
    "\"\"\"\n",
    "\n",
    "input_padded = preprocess.fit_transform([input])\n",
    "y_pred = np.argmax(loaded_model.predict(input_padded),axis = 1)\n",
    "y_pred"
   ]
  },
  {
   "cell_type": "code",
   "execution_count": 78,
   "id": "27e27efc-a336-4343-a45d-6d3c265d9827",
   "metadata": {},
   "outputs": [
    {
     "name": "stdout",
     "output_type": "stream",
     "text": [
      "1/1 [==============================] - 0s 112ms/step\n"
     ]
    },
    {
     "data": {
      "text/plain": [
       "array([1], dtype=int64)"
      ]
     },
     "execution_count": 78,
     "metadata": {},
     "output_type": "execute_result"
    }
   ],
   "source": [
    "input = \"\"\"\n",
    "During my recent stay at the Sea Princess Hotel, I had an extremely unpleasant experience. The rooms were of substandard quality, and on the first night, I encountered several issues, which made my stay feel like a complete nightmare. For instance, I found an insect on the wall, there was no hot water, the sink was clogged, and there were no bath towels. Despite being moved to another room, the issues remained in that room too. Finally, I got to a better room on the third night. When I tried to discuss my concerns with the front desk staff, they showed no consideration or empathy towards the guests. Moreover, there needed to be more communication among the manager and associates, with each providing different prices for services.\n",
    "However, the food and beverage staff, including Deepak, Imran, Vinnit, Mr. Shaw, and Executive Chef Dev, were excellent. Although the breakfast buffet was small and had limited choices compared to neighbouring hotels, the food and service were great\n",
    "\"\"\"\n",
    "\n",
    "input_padded = preprocess.fit_transform([input])\n",
    "y_pred = np.argmax(loaded_model.predict(input_padded),axis = 1)\n",
    "y_pred"
   ]
  },
  {
   "cell_type": "code",
   "execution_count": 71,
   "id": "e40b0a2e-e43d-44f4-a2ed-2812e63ac319",
   "metadata": {},
   "outputs": [
    {
     "name": "stdout",
     "output_type": "stream",
     "text": [
      "1/1 [==============================] - 0s 114ms/step\n"
     ]
    },
    {
     "data": {
      "text/plain": [
       "array([0], dtype=int64)"
      ]
     },
     "execution_count": 71,
     "metadata": {},
     "output_type": "execute_result"
    }
   ],
   "source": [
    "input = \"\"\"\n",
    "I had checked in , in this third class hotel on 19th October. I was given room no.607. I booked the room for 2 days for which i paid 20,000 rupees and I highly regret for the same. I had a reason to book this hotel—- 1. I wanted a sea facing view which was shown in the pictures. I wanted a peaceful stay with my husband as we were on vacation after a very long time. I wanted to surprise my husband and make it special for him as it was his birthday. I wanted a beautiful experience for my short stay in Mumbai.\n",
    "BUT NONE OF THESE REQUIREMENTS WERE MET.I was given a very third grade room in 1 corner which had view of residential buildings and their windows ,despite telling the staff that i wanted a sea view and thats the only reason i booked this hotel.The hotel staff was very unprofessional.\n",
    "In the breakfast buffet, we saw a COCKROACH in the donut tray for which we reported to the staff and the in room dining manager there, they saw and behaved as if it was very normal for them to see a cockroach roaming inside the tray. We asked them to change the trays as it is so unhygienic and the cockroach might have entered other trays as well but the manager denied and said we cannot do that and the same trays were kept there and all other guests were consuming the food items there. I felt very awful after seeing that practice of the staff.. the manager and the staff were not even embarrassed or sorry for the same.\n",
    "While checking out, i was asked to wait for more than 20 minutes because their cleaning staff couldn’t find a water bottle in the refrigerator which was not there at first place. They wanted to charge me for it, even after telling them that the bottle was not there at the first place.\n",
    "I felt so humiliated and embarrassed that these people are blaming me for a 20 rupees water bottle wherein i paid 20k for 2 days stays…The staff is absolutely shameless and unprofessional. They don’t know how to behave with the guests and their customer service is extremely poor.\n",
    "I would say Yuckssssssss for this hotel and the entire experience in this pathetic low class hotel. I will submit this review everywhere possible and make sure that the world gets to know about this hotel and the shameless staff.\n",
    "\"\"\"\n",
    "\n",
    "input_padded = preprocess.fit_transform([input])\n",
    "y_pred = np.argmax(loaded_model.predict(input_padded),axis = 1)\n",
    "y_pred"
   ]
  },
  {
   "cell_type": "markdown",
   "id": "f07428aa-d399-40f2-a38c-7b8c7a81ab0b",
   "metadata": {},
   "source": [
    "## "
   ]
  },
  {
   "cell_type": "markdown",
   "id": "447f2ad2-61e1-4f11-9f8c-6bd72db0e136",
   "metadata": {},
   "source": [
    "## ML based Classfication"
   ]
  },
  {
   "cell_type": "code",
   "execution_count": 84,
   "id": "f181a49d-205f-4f57-90a6-d6e52e6a8639",
   "metadata": {},
   "outputs": [],
   "source": [
    "from sklearn.feature_extraction.text import TfidfVectorizer"
   ]
  },
  {
   "cell_type": "code",
   "execution_count": 85,
   "id": "07e6a2b1-aa7f-4e3f-b23c-2bf926ffbee9",
   "metadata": {},
   "outputs": [],
   "source": [
    "X = df1['Review_Cleaned']\n",
    "y = df1['Rating']"
   ]
  },
  {
   "cell_type": "code",
   "execution_count": 86,
   "id": "26a6a4e7-58fd-4530-bca1-909c00374431",
   "metadata": {},
   "outputs": [
    {
     "data": {
      "text/plain": [
       "<20491x44754 sparse matrix of type '<class 'numpy.float64'>'\n",
       "\twith 1577890 stored elements in Compressed Sparse Row format>"
      ]
     },
     "execution_count": 86,
     "metadata": {},
     "output_type": "execute_result"
    }
   ],
   "source": [
    "RF_vectorizer = TfidfVectorizer()\n",
    "\n",
    "X = RF_vectorizer.fit_transform(X)\n",
    "X"
   ]
  },
  {
   "cell_type": "code",
   "execution_count": 87,
   "id": "8d30c98c-56b3-4edf-9bfe-836715aa5e31",
   "metadata": {},
   "outputs": [],
   "source": [
    "from imblearn.over_sampling import RandomOverSampler\n",
    "\n",
    "ros = RandomOverSampler(random_state=42)\n",
    "X_balanced, y_balanced = ros.fit_resample(X, y)"
   ]
  },
  {
   "cell_type": "code",
   "execution_count": 88,
   "id": "9cf7d490-d999-41cb-9454-30306034abc0",
   "metadata": {},
   "outputs": [
    {
     "name": "stdout",
     "output_type": "stream",
     "text": [
      "Counter({4: 9054, 3: 6039, 2: 2184, 1: 1793, 0: 1421})\n",
      "Counter({3: 9054, 1: 9054, 2: 9054, 4: 9054, 0: 9054})\n"
     ]
    }
   ],
   "source": [
    "from collections import Counter\n",
    "\n",
    "# Check the class distribution after resampling\n",
    "print(Counter(y))\n",
    "print(Counter(y_balanced))"
   ]
  },
  {
   "cell_type": "markdown",
   "id": "57b107a1-3dde-40a2-973a-50ea51a3b110",
   "metadata": {},
   "source": [
    "## "
   ]
  },
  {
   "cell_type": "code",
   "execution_count": 89,
   "id": "7eab5690-4d7a-43c7-9864-9bc6068f0056",
   "metadata": {},
   "outputs": [],
   "source": [
    "from sklearn.model_selection import train_test_split\n",
    "X_train, X_test, Y_train, Y_test = train_test_split(X_balanced, y_balanced, test_size=0.33, random_state=42,stratify=y_balanced)"
   ]
  },
  {
   "cell_type": "code",
   "execution_count": 90,
   "id": "a9f3b17a-5025-4c12-b71f-dfd87f2b80ae",
   "metadata": {},
   "outputs": [
    {
     "data": {
      "text/plain": [
       "((30330, 44754), (14940, 44754), (36216,), (9054,))"
      ]
     },
     "execution_count": 90,
     "metadata": {},
     "output_type": "execute_result"
    }
   ],
   "source": [
    "X_train.shape, X_test.shape, y_train.shape, y_test.shape"
   ]
  },
  {
   "cell_type": "code",
   "execution_count": 91,
   "id": "9e25a364-334c-4d36-b009-5f59bff90922",
   "metadata": {},
   "outputs": [],
   "source": [
    "from sklearn.linear_model import LogisticRegression\n",
    "from sklearn.ensemble import RandomForestClassifier\n",
    "from sklearn.svm import SVC\n",
    "from sklearn.metrics import accuracy_score"
   ]
  },
  {
   "cell_type": "code",
   "execution_count": 92,
   "id": "cfa3bcb6-4929-45a1-bcae-ed4130d2b75d",
   "metadata": {},
   "outputs": [],
   "source": [
    "models = {\n",
    "    \"LogisticRegression\": LogisticRegression(),\n",
    "    \"RandomForest\": RandomForestClassifier(criterion=\"entropy\"),\n",
    "    \"SVM\": SVC(kernel='linear')\n",
    "}"
   ]
  },
  {
   "cell_type": "code",
   "execution_count": 93,
   "id": "82c03375-c73d-4eda-a29c-1f93807733a4",
   "metadata": {},
   "outputs": [],
   "source": [
    "from sklearn.metrics import accuracy_score\n",
    "\n",
    "def evaluate_model(X_train,Y_train,X_test,Y_test,models):\n",
    "    report = {}\n",
    "    for i in range(len(models)):\n",
    "        model = list(models.values())[i]\n",
    "        model.fit(X_train,Y_train)\n",
    "        Y_test_predict = model.predict(X_test)\n",
    "        score = accuracy_score(Y_test,Y_test_predict)\n",
    "        report[list(models.keys())[i]] = score\n",
    "    \n",
    "    return report"
   ]
  },
  {
   "cell_type": "code",
   "execution_count": 94,
   "id": "c2ef02b9-8196-4199-9878-57ce635d18a1",
   "metadata": {},
   "outputs": [
    {
     "data": {
      "text/plain": [
       "{'LogisticRegression': 0.8038152610441767,\n",
       " 'RandomForest': 0.8920348058902275,\n",
       " 'SVM': 0.8307898259705488}"
      ]
     },
     "execution_count": 94,
     "metadata": {},
     "output_type": "execute_result"
    }
   ],
   "source": [
    "evaluate_model(X_train,Y_train,X_test,Y_test,models)"
   ]
  },
  {
   "cell_type": "markdown",
   "id": "e2048d4c-1a8c-48af-977a-821394a3f8d6",
   "metadata": {},
   "source": [
    "## "
   ]
  },
  {
   "cell_type": "markdown",
   "id": "acb90c43-7d30-4936-b3a1-40c0413a8e76",
   "metadata": {},
   "source": [
    "## Pipline Building of Preprocessor and Model"
   ]
  },
  {
   "cell_type": "code",
   "execution_count": 95,
   "id": "81b6b726-34e8-4508-aa8a-239026513623",
   "metadata": {},
   "outputs": [],
   "source": [
    "#pip install sklearn_pandas"
   ]
  },
  {
   "cell_type": "code",
   "execution_count": 96,
   "id": "a8a3b24f-03be-4128-9194-e2af8d24dc46",
   "metadata": {},
   "outputs": [],
   "source": [
    "from imblearn.pipeline import Pipeline\n",
    "from sklearn_pandas import DataFrameMapper\n",
    "from sklearn.compose import ColumnTransformer\n",
    "from sklearn.preprocessing import FunctionTransformer \n",
    "from imblearn.pipeline import Pipeline as ImbPipeline"
   ]
  },
  {
   "cell_type": "code",
   "execution_count": 97,
   "id": "034f331e-09fc-45f2-9759-61509d991902",
   "metadata": {},
   "outputs": [
    {
     "data": {
      "text/html": [
       "<div>\n",
       "<style scoped>\n",
       "    .dataframe tbody tr th:only-of-type {\n",
       "        vertical-align: middle;\n",
       "    }\n",
       "\n",
       "    .dataframe tbody tr th {\n",
       "        vertical-align: top;\n",
       "    }\n",
       "\n",
       "    .dataframe thead th {\n",
       "        text-align: right;\n",
       "    }\n",
       "</style>\n",
       "<table border=\"1\" class=\"dataframe\">\n",
       "  <thead>\n",
       "    <tr style=\"text-align: right;\">\n",
       "      <th></th>\n",
       "      <th>Review</th>\n",
       "      <th>Rating</th>\n",
       "      <th>Target</th>\n",
       "      <th>Review_Cleaned</th>\n",
       "    </tr>\n",
       "  </thead>\n",
       "  <tbody>\n",
       "    <tr>\n",
       "      <th>0</th>\n",
       "      <td>nice hotel expensive parking got good deal sta...</td>\n",
       "      <td>3</td>\n",
       "      <td>2</td>\n",
       "      <td>nice hotel expensive parking got good deal sta...</td>\n",
       "    </tr>\n",
       "    <tr>\n",
       "      <th>1</th>\n",
       "      <td>ok nothing special charge diamond member hilto...</td>\n",
       "      <td>1</td>\n",
       "      <td>0</td>\n",
       "      <td>ok nothing special charge diamond member hilto...</td>\n",
       "    </tr>\n",
       "    <tr>\n",
       "      <th>2</th>\n",
       "      <td>nice rooms not 4* experience hotel monaco seat...</td>\n",
       "      <td>2</td>\n",
       "      <td>1</td>\n",
       "      <td>nice room experience hotel monaco seattle good...</td>\n",
       "    </tr>\n",
       "    <tr>\n",
       "      <th>3</th>\n",
       "      <td>unique, great stay, wonderful time hotel monac...</td>\n",
       "      <td>4</td>\n",
       "      <td>2</td>\n",
       "      <td>unique great stay wonderful time hotel monaco ...</td>\n",
       "    </tr>\n",
       "    <tr>\n",
       "      <th>4</th>\n",
       "      <td>great stay great stay, went seahawk game aweso...</td>\n",
       "      <td>4</td>\n",
       "      <td>2</td>\n",
       "      <td>great stay great stay went seahawk game awesom...</td>\n",
       "    </tr>\n",
       "  </tbody>\n",
       "</table>\n",
       "</div>"
      ],
      "text/plain": [
       "                                              Review  Rating  Target  \\\n",
       "0  nice hotel expensive parking got good deal sta...       3       2   \n",
       "1  ok nothing special charge diamond member hilto...       1       0   \n",
       "2  nice rooms not 4* experience hotel monaco seat...       2       1   \n",
       "3  unique, great stay, wonderful time hotel monac...       4       2   \n",
       "4  great stay great stay, went seahawk game aweso...       4       2   \n",
       "\n",
       "                                      Review_Cleaned  \n",
       "0  nice hotel expensive parking got good deal sta...  \n",
       "1  ok nothing special charge diamond member hilto...  \n",
       "2  nice room experience hotel monaco seattle good...  \n",
       "3  unique great stay wonderful time hotel monaco ...  \n",
       "4  great stay great stay went seahawk game awesom...  "
      ]
     },
     "execution_count": 97,
     "metadata": {},
     "output_type": "execute_result"
    }
   ],
   "source": [
    "df1.head()"
   ]
  },
  {
   "cell_type": "code",
   "execution_count": 98,
   "id": "73f54761-1e0b-4be9-b9ce-bfd8794d5e21",
   "metadata": {},
   "outputs": [],
   "source": [
    "X = df1[['Review']]\n",
    "y = df1['Rating']"
   ]
  },
  {
   "cell_type": "code",
   "execution_count": 99,
   "id": "9dccea96-c7ae-4ad2-80d9-e23b7a2264bb",
   "metadata": {},
   "outputs": [],
   "source": [
    "from sklearn.model_selection import train_test_split\n",
    "X_train, X_test, Y_train, Y_test = train_test_split(X, y, test_size=0.33, random_state=42,stratify = y)"
   ]
  },
  {
   "cell_type": "code",
   "execution_count": 100,
   "id": "0a4ad1d6-b893-4255-b6cd-3a0ea69e9a43",
   "metadata": {},
   "outputs": [],
   "source": [
    "def clean_text(text):\n",
    "    # Remove non-alphabetic characters (including spaces)\n",
    "    text = re.sub(r'[^a-zA-Z\\s]', ' ', text)  \n",
    "    text = text.lower() \n",
    "    text = text.split()\n",
    "    text = [lemmatizer.lemmatize(word) for word in text if word not in stop_words]\n",
    "    cleaned_text = \" \".join(text)\n",
    "    return cleaned_text"
   ]
  },
  {
   "cell_type": "code",
   "execution_count": 101,
   "id": "0eda4c44-1113-4f8b-ae15-b4b4cba23ba4",
   "metadata": {},
   "outputs": [],
   "source": [
    "ros = RandomOverSampler(random_state=42)\n",
    "\n",
    "logistic = LogisticRegression()\n",
    "\n",
    "RandomForest = RandomForestClassifier(criterion=\"entropy\")"
   ]
  },
  {
   "cell_type": "code",
   "execution_count": 102,
   "id": "181cbc8d-f71e-42fe-92f6-caaf97358cae",
   "metadata": {},
   "outputs": [],
   "source": [
    "X = df1[['Review']]\n",
    "y = df1['Rating']"
   ]
  },
  {
   "cell_type": "code",
   "execution_count": 103,
   "id": "be4f475c-cec1-4b78-949f-ad63e367a3bc",
   "metadata": {},
   "outputs": [],
   "source": [
    "X_train, X_test, Y_train, Y_test = train_test_split(X, y, test_size=0.33, random_state=42,stratify = y)"
   ]
  },
  {
   "cell_type": "code",
   "execution_count": 104,
   "id": "9479b2e6-88dc-453c-adcf-e2a9ada21a53",
   "metadata": {},
   "outputs": [
    {
     "data": {
      "text/html": [
       "<style>#sk-container-id-1 {\n",
       "  /* Definition of color scheme common for light and dark mode */\n",
       "  --sklearn-color-text: black;\n",
       "  --sklearn-color-line: gray;\n",
       "  /* Definition of color scheme for unfitted estimators */\n",
       "  --sklearn-color-unfitted-level-0: #fff5e6;\n",
       "  --sklearn-color-unfitted-level-1: #f6e4d2;\n",
       "  --sklearn-color-unfitted-level-2: #ffe0b3;\n",
       "  --sklearn-color-unfitted-level-3: chocolate;\n",
       "  /* Definition of color scheme for fitted estimators */\n",
       "  --sklearn-color-fitted-level-0: #f0f8ff;\n",
       "  --sklearn-color-fitted-level-1: #d4ebff;\n",
       "  --sklearn-color-fitted-level-2: #b3dbfd;\n",
       "  --sklearn-color-fitted-level-3: cornflowerblue;\n",
       "\n",
       "  /* Specific color for light theme */\n",
       "  --sklearn-color-text-on-default-background: var(--sg-text-color, var(--theme-code-foreground, var(--jp-content-font-color1, black)));\n",
       "  --sklearn-color-background: var(--sg-background-color, var(--theme-background, var(--jp-layout-color0, white)));\n",
       "  --sklearn-color-border-box: var(--sg-text-color, var(--theme-code-foreground, var(--jp-content-font-color1, black)));\n",
       "  --sklearn-color-icon: #696969;\n",
       "\n",
       "  @media (prefers-color-scheme: dark) {\n",
       "    /* Redefinition of color scheme for dark theme */\n",
       "    --sklearn-color-text-on-default-background: var(--sg-text-color, var(--theme-code-foreground, var(--jp-content-font-color1, white)));\n",
       "    --sklearn-color-background: var(--sg-background-color, var(--theme-background, var(--jp-layout-color0, #111)));\n",
       "    --sklearn-color-border-box: var(--sg-text-color, var(--theme-code-foreground, var(--jp-content-font-color1, white)));\n",
       "    --sklearn-color-icon: #878787;\n",
       "  }\n",
       "}\n",
       "\n",
       "#sk-container-id-1 {\n",
       "  color: var(--sklearn-color-text);\n",
       "}\n",
       "\n",
       "#sk-container-id-1 pre {\n",
       "  padding: 0;\n",
       "}\n",
       "\n",
       "#sk-container-id-1 input.sk-hidden--visually {\n",
       "  border: 0;\n",
       "  clip: rect(1px 1px 1px 1px);\n",
       "  clip: rect(1px, 1px, 1px, 1px);\n",
       "  height: 1px;\n",
       "  margin: -1px;\n",
       "  overflow: hidden;\n",
       "  padding: 0;\n",
       "  position: absolute;\n",
       "  width: 1px;\n",
       "}\n",
       "\n",
       "#sk-container-id-1 div.sk-dashed-wrapped {\n",
       "  border: 1px dashed var(--sklearn-color-line);\n",
       "  margin: 0 0.4em 0.5em 0.4em;\n",
       "  box-sizing: border-box;\n",
       "  padding-bottom: 0.4em;\n",
       "  background-color: var(--sklearn-color-background);\n",
       "}\n",
       "\n",
       "#sk-container-id-1 div.sk-container {\n",
       "  /* jupyter's `normalize.less` sets `[hidden] { display: none; }`\n",
       "     but bootstrap.min.css set `[hidden] { display: none !important; }`\n",
       "     so we also need the `!important` here to be able to override the\n",
       "     default hidden behavior on the sphinx rendered scikit-learn.org.\n",
       "     See: https://github.com/scikit-learn/scikit-learn/issues/21755 */\n",
       "  display: inline-block !important;\n",
       "  position: relative;\n",
       "}\n",
       "\n",
       "#sk-container-id-1 div.sk-text-repr-fallback {\n",
       "  display: none;\n",
       "}\n",
       "\n",
       "div.sk-parallel-item,\n",
       "div.sk-serial,\n",
       "div.sk-item {\n",
       "  /* draw centered vertical line to link estimators */\n",
       "  background-image: linear-gradient(var(--sklearn-color-text-on-default-background), var(--sklearn-color-text-on-default-background));\n",
       "  background-size: 2px 100%;\n",
       "  background-repeat: no-repeat;\n",
       "  background-position: center center;\n",
       "}\n",
       "\n",
       "/* Parallel-specific style estimator block */\n",
       "\n",
       "#sk-container-id-1 div.sk-parallel-item::after {\n",
       "  content: \"\";\n",
       "  width: 100%;\n",
       "  border-bottom: 2px solid var(--sklearn-color-text-on-default-background);\n",
       "  flex-grow: 1;\n",
       "}\n",
       "\n",
       "#sk-container-id-1 div.sk-parallel {\n",
       "  display: flex;\n",
       "  align-items: stretch;\n",
       "  justify-content: center;\n",
       "  background-color: var(--sklearn-color-background);\n",
       "  position: relative;\n",
       "}\n",
       "\n",
       "#sk-container-id-1 div.sk-parallel-item {\n",
       "  display: flex;\n",
       "  flex-direction: column;\n",
       "}\n",
       "\n",
       "#sk-container-id-1 div.sk-parallel-item:first-child::after {\n",
       "  align-self: flex-end;\n",
       "  width: 50%;\n",
       "}\n",
       "\n",
       "#sk-container-id-1 div.sk-parallel-item:last-child::after {\n",
       "  align-self: flex-start;\n",
       "  width: 50%;\n",
       "}\n",
       "\n",
       "#sk-container-id-1 div.sk-parallel-item:only-child::after {\n",
       "  width: 0;\n",
       "}\n",
       "\n",
       "/* Serial-specific style estimator block */\n",
       "\n",
       "#sk-container-id-1 div.sk-serial {\n",
       "  display: flex;\n",
       "  flex-direction: column;\n",
       "  align-items: center;\n",
       "  background-color: var(--sklearn-color-background);\n",
       "  padding-right: 1em;\n",
       "  padding-left: 1em;\n",
       "}\n",
       "\n",
       "\n",
       "/* Toggleable style: style used for estimator/Pipeline/ColumnTransformer box that is\n",
       "clickable and can be expanded/collapsed.\n",
       "- Pipeline and ColumnTransformer use this feature and define the default style\n",
       "- Estimators will overwrite some part of the style using the `sk-estimator` class\n",
       "*/\n",
       "\n",
       "/* Pipeline and ColumnTransformer style (default) */\n",
       "\n",
       "#sk-container-id-1 div.sk-toggleable {\n",
       "  /* Default theme specific background. It is overwritten whether we have a\n",
       "  specific estimator or a Pipeline/ColumnTransformer */\n",
       "  background-color: var(--sklearn-color-background);\n",
       "}\n",
       "\n",
       "/* Toggleable label */\n",
       "#sk-container-id-1 label.sk-toggleable__label {\n",
       "  cursor: pointer;\n",
       "  display: block;\n",
       "  width: 100%;\n",
       "  margin-bottom: 0;\n",
       "  padding: 0.5em;\n",
       "  box-sizing: border-box;\n",
       "  text-align: center;\n",
       "}\n",
       "\n",
       "#sk-container-id-1 label.sk-toggleable__label-arrow:before {\n",
       "  /* Arrow on the left of the label */\n",
       "  content: \"▸\";\n",
       "  float: left;\n",
       "  margin-right: 0.25em;\n",
       "  color: var(--sklearn-color-icon);\n",
       "}\n",
       "\n",
       "#sk-container-id-1 label.sk-toggleable__label-arrow:hover:before {\n",
       "  color: var(--sklearn-color-text);\n",
       "}\n",
       "\n",
       "/* Toggleable content - dropdown */\n",
       "\n",
       "#sk-container-id-1 div.sk-toggleable__content {\n",
       "  max-height: 0;\n",
       "  max-width: 0;\n",
       "  overflow: hidden;\n",
       "  text-align: left;\n",
       "  /* unfitted */\n",
       "  background-color: var(--sklearn-color-unfitted-level-0);\n",
       "}\n",
       "\n",
       "#sk-container-id-1 div.sk-toggleable__content.fitted {\n",
       "  /* fitted */\n",
       "  background-color: var(--sklearn-color-fitted-level-0);\n",
       "}\n",
       "\n",
       "#sk-container-id-1 div.sk-toggleable__content pre {\n",
       "  margin: 0.2em;\n",
       "  border-radius: 0.25em;\n",
       "  color: var(--sklearn-color-text);\n",
       "  /* unfitted */\n",
       "  background-color: var(--sklearn-color-unfitted-level-0);\n",
       "}\n",
       "\n",
       "#sk-container-id-1 div.sk-toggleable__content.fitted pre {\n",
       "  /* unfitted */\n",
       "  background-color: var(--sklearn-color-fitted-level-0);\n",
       "}\n",
       "\n",
       "#sk-container-id-1 input.sk-toggleable__control:checked~div.sk-toggleable__content {\n",
       "  /* Expand drop-down */\n",
       "  max-height: 200px;\n",
       "  max-width: 100%;\n",
       "  overflow: auto;\n",
       "}\n",
       "\n",
       "#sk-container-id-1 input.sk-toggleable__control:checked~label.sk-toggleable__label-arrow:before {\n",
       "  content: \"▾\";\n",
       "}\n",
       "\n",
       "/* Pipeline/ColumnTransformer-specific style */\n",
       "\n",
       "#sk-container-id-1 div.sk-label input.sk-toggleable__control:checked~label.sk-toggleable__label {\n",
       "  color: var(--sklearn-color-text);\n",
       "  background-color: var(--sklearn-color-unfitted-level-2);\n",
       "}\n",
       "\n",
       "#sk-container-id-1 div.sk-label.fitted input.sk-toggleable__control:checked~label.sk-toggleable__label {\n",
       "  background-color: var(--sklearn-color-fitted-level-2);\n",
       "}\n",
       "\n",
       "/* Estimator-specific style */\n",
       "\n",
       "/* Colorize estimator box */\n",
       "#sk-container-id-1 div.sk-estimator input.sk-toggleable__control:checked~label.sk-toggleable__label {\n",
       "  /* unfitted */\n",
       "  background-color: var(--sklearn-color-unfitted-level-2);\n",
       "}\n",
       "\n",
       "#sk-container-id-1 div.sk-estimator.fitted input.sk-toggleable__control:checked~label.sk-toggleable__label {\n",
       "  /* fitted */\n",
       "  background-color: var(--sklearn-color-fitted-level-2);\n",
       "}\n",
       "\n",
       "#sk-container-id-1 div.sk-label label.sk-toggleable__label,\n",
       "#sk-container-id-1 div.sk-label label {\n",
       "  /* The background is the default theme color */\n",
       "  color: var(--sklearn-color-text-on-default-background);\n",
       "}\n",
       "\n",
       "/* On hover, darken the color of the background */\n",
       "#sk-container-id-1 div.sk-label:hover label.sk-toggleable__label {\n",
       "  color: var(--sklearn-color-text);\n",
       "  background-color: var(--sklearn-color-unfitted-level-2);\n",
       "}\n",
       "\n",
       "/* Label box, darken color on hover, fitted */\n",
       "#sk-container-id-1 div.sk-label.fitted:hover label.sk-toggleable__label.fitted {\n",
       "  color: var(--sklearn-color-text);\n",
       "  background-color: var(--sklearn-color-fitted-level-2);\n",
       "}\n",
       "\n",
       "/* Estimator label */\n",
       "\n",
       "#sk-container-id-1 div.sk-label label {\n",
       "  font-family: monospace;\n",
       "  font-weight: bold;\n",
       "  display: inline-block;\n",
       "  line-height: 1.2em;\n",
       "}\n",
       "\n",
       "#sk-container-id-1 div.sk-label-container {\n",
       "  text-align: center;\n",
       "}\n",
       "\n",
       "/* Estimator-specific */\n",
       "#sk-container-id-1 div.sk-estimator {\n",
       "  font-family: monospace;\n",
       "  border: 1px dotted var(--sklearn-color-border-box);\n",
       "  border-radius: 0.25em;\n",
       "  box-sizing: border-box;\n",
       "  margin-bottom: 0.5em;\n",
       "  /* unfitted */\n",
       "  background-color: var(--sklearn-color-unfitted-level-0);\n",
       "}\n",
       "\n",
       "#sk-container-id-1 div.sk-estimator.fitted {\n",
       "  /* fitted */\n",
       "  background-color: var(--sklearn-color-fitted-level-0);\n",
       "}\n",
       "\n",
       "/* on hover */\n",
       "#sk-container-id-1 div.sk-estimator:hover {\n",
       "  /* unfitted */\n",
       "  background-color: var(--sklearn-color-unfitted-level-2);\n",
       "}\n",
       "\n",
       "#sk-container-id-1 div.sk-estimator.fitted:hover {\n",
       "  /* fitted */\n",
       "  background-color: var(--sklearn-color-fitted-level-2);\n",
       "}\n",
       "\n",
       "/* Specification for estimator info (e.g. \"i\" and \"?\") */\n",
       "\n",
       "/* Common style for \"i\" and \"?\" */\n",
       "\n",
       ".sk-estimator-doc-link,\n",
       "a:link.sk-estimator-doc-link,\n",
       "a:visited.sk-estimator-doc-link {\n",
       "  float: right;\n",
       "  font-size: smaller;\n",
       "  line-height: 1em;\n",
       "  font-family: monospace;\n",
       "  background-color: var(--sklearn-color-background);\n",
       "  border-radius: 1em;\n",
       "  height: 1em;\n",
       "  width: 1em;\n",
       "  text-decoration: none !important;\n",
       "  margin-left: 1ex;\n",
       "  /* unfitted */\n",
       "  border: var(--sklearn-color-unfitted-level-1) 1pt solid;\n",
       "  color: var(--sklearn-color-unfitted-level-1);\n",
       "}\n",
       "\n",
       ".sk-estimator-doc-link.fitted,\n",
       "a:link.sk-estimator-doc-link.fitted,\n",
       "a:visited.sk-estimator-doc-link.fitted {\n",
       "  /* fitted */\n",
       "  border: var(--sklearn-color-fitted-level-1) 1pt solid;\n",
       "  color: var(--sklearn-color-fitted-level-1);\n",
       "}\n",
       "\n",
       "/* On hover */\n",
       "div.sk-estimator:hover .sk-estimator-doc-link:hover,\n",
       ".sk-estimator-doc-link:hover,\n",
       "div.sk-label-container:hover .sk-estimator-doc-link:hover,\n",
       ".sk-estimator-doc-link:hover {\n",
       "  /* unfitted */\n",
       "  background-color: var(--sklearn-color-unfitted-level-3);\n",
       "  color: var(--sklearn-color-background);\n",
       "  text-decoration: none;\n",
       "}\n",
       "\n",
       "div.sk-estimator.fitted:hover .sk-estimator-doc-link.fitted:hover,\n",
       ".sk-estimator-doc-link.fitted:hover,\n",
       "div.sk-label-container:hover .sk-estimator-doc-link.fitted:hover,\n",
       ".sk-estimator-doc-link.fitted:hover {\n",
       "  /* fitted */\n",
       "  background-color: var(--sklearn-color-fitted-level-3);\n",
       "  color: var(--sklearn-color-background);\n",
       "  text-decoration: none;\n",
       "}\n",
       "\n",
       "/* Span, style for the box shown on hovering the info icon */\n",
       ".sk-estimator-doc-link span {\n",
       "  display: none;\n",
       "  z-index: 9999;\n",
       "  position: relative;\n",
       "  font-weight: normal;\n",
       "  right: .2ex;\n",
       "  padding: .5ex;\n",
       "  margin: .5ex;\n",
       "  width: min-content;\n",
       "  min-width: 20ex;\n",
       "  max-width: 50ex;\n",
       "  color: var(--sklearn-color-text);\n",
       "  box-shadow: 2pt 2pt 4pt #999;\n",
       "  /* unfitted */\n",
       "  background: var(--sklearn-color-unfitted-level-0);\n",
       "  border: .5pt solid var(--sklearn-color-unfitted-level-3);\n",
       "}\n",
       "\n",
       ".sk-estimator-doc-link.fitted span {\n",
       "  /* fitted */\n",
       "  background: var(--sklearn-color-fitted-level-0);\n",
       "  border: var(--sklearn-color-fitted-level-3);\n",
       "}\n",
       "\n",
       ".sk-estimator-doc-link:hover span {\n",
       "  display: block;\n",
       "}\n",
       "\n",
       "/* \"?\"-specific style due to the `<a>` HTML tag */\n",
       "\n",
       "#sk-container-id-1 a.estimator_doc_link {\n",
       "  float: right;\n",
       "  font-size: 1rem;\n",
       "  line-height: 1em;\n",
       "  font-family: monospace;\n",
       "  background-color: var(--sklearn-color-background);\n",
       "  border-radius: 1rem;\n",
       "  height: 1rem;\n",
       "  width: 1rem;\n",
       "  text-decoration: none;\n",
       "  /* unfitted */\n",
       "  color: var(--sklearn-color-unfitted-level-1);\n",
       "  border: var(--sklearn-color-unfitted-level-1) 1pt solid;\n",
       "}\n",
       "\n",
       "#sk-container-id-1 a.estimator_doc_link.fitted {\n",
       "  /* fitted */\n",
       "  border: var(--sklearn-color-fitted-level-1) 1pt solid;\n",
       "  color: var(--sklearn-color-fitted-level-1);\n",
       "}\n",
       "\n",
       "/* On hover */\n",
       "#sk-container-id-1 a.estimator_doc_link:hover {\n",
       "  /* unfitted */\n",
       "  background-color: var(--sklearn-color-unfitted-level-3);\n",
       "  color: var(--sklearn-color-background);\n",
       "  text-decoration: none;\n",
       "}\n",
       "\n",
       "#sk-container-id-1 a.estimator_doc_link.fitted:hover {\n",
       "  /* fitted */\n",
       "  background-color: var(--sklearn-color-fitted-level-3);\n",
       "}\n",
       "</style><div id=\"sk-container-id-1\" class=\"sk-top-container\"><div class=\"sk-text-repr-fallback\"><pre>Pipeline(steps=[(&#x27;cleaning&#x27;,\n",
       "                 FunctionTransformer(func=&lt;function &lt;lambda&gt; at 0x0000015C82FF2B80&gt;)),\n",
       "                (&#x27;tfidf&#x27;,\n",
       "                 ColumnTransformer(remainder=&#x27;passthrough&#x27;,\n",
       "                                   transformers=[(&#x27;tfidf&#x27;, TfidfVectorizer(),\n",
       "                                                  &#x27;Review&#x27;)]))])</pre><b>In a Jupyter environment, please rerun this cell to show the HTML representation or trust the notebook. <br />On GitHub, the HTML representation is unable to render, please try loading this page with nbviewer.org.</b></div><div class=\"sk-container\" hidden><div class=\"sk-item sk-dashed-wrapped\"><div class=\"sk-label-container\"><div class=\"sk-label  sk-toggleable\"><input class=\"sk-toggleable__control sk-hidden--visually\" id=\"sk-estimator-id-1\" type=\"checkbox\" ><label for=\"sk-estimator-id-1\" class=\"sk-toggleable__label  sk-toggleable__label-arrow \">&nbsp;Pipeline<span class=\"sk-estimator-doc-link \">i<span>Not fitted</span></span></label><div class=\"sk-toggleable__content \"><pre>Pipeline(steps=[(&#x27;cleaning&#x27;,\n",
       "                 FunctionTransformer(func=&lt;function &lt;lambda&gt; at 0x0000015C82FF2B80&gt;)),\n",
       "                (&#x27;tfidf&#x27;,\n",
       "                 ColumnTransformer(remainder=&#x27;passthrough&#x27;,\n",
       "                                   transformers=[(&#x27;tfidf&#x27;, TfidfVectorizer(),\n",
       "                                                  &#x27;Review&#x27;)]))])</pre></div> </div></div><div class=\"sk-serial\"><div class=\"sk-item\"><div class=\"sk-estimator  sk-toggleable\"><input class=\"sk-toggleable__control sk-hidden--visually\" id=\"sk-estimator-id-2\" type=\"checkbox\" ><label for=\"sk-estimator-id-2\" class=\"sk-toggleable__label  sk-toggleable__label-arrow \">&nbsp;FunctionTransformer<a class=\"sk-estimator-doc-link \" rel=\"noreferrer\" target=\"_blank\" href=\"https://scikit-learn.org/1.4/modules/generated/sklearn.preprocessing.FunctionTransformer.html\">?<span>Documentation for FunctionTransformer</span></a></label><div class=\"sk-toggleable__content \"><pre>FunctionTransformer(func=&lt;function &lt;lambda&gt; at 0x0000015C82FF2B80&gt;)</pre></div> </div></div><div class=\"sk-item sk-dashed-wrapped\"><div class=\"sk-label-container\"><div class=\"sk-label  sk-toggleable\"><input class=\"sk-toggleable__control sk-hidden--visually\" id=\"sk-estimator-id-3\" type=\"checkbox\" ><label for=\"sk-estimator-id-3\" class=\"sk-toggleable__label  sk-toggleable__label-arrow \">&nbsp;tfidf: ColumnTransformer<a class=\"sk-estimator-doc-link \" rel=\"noreferrer\" target=\"_blank\" href=\"https://scikit-learn.org/1.4/modules/generated/sklearn.compose.ColumnTransformer.html\">?<span>Documentation for tfidf: ColumnTransformer</span></a></label><div class=\"sk-toggleable__content \"><pre>ColumnTransformer(remainder=&#x27;passthrough&#x27;,\n",
       "                  transformers=[(&#x27;tfidf&#x27;, TfidfVectorizer(), &#x27;Review&#x27;)])</pre></div> </div></div><div class=\"sk-parallel\"><div class=\"sk-parallel-item\"><div class=\"sk-item\"><div class=\"sk-label-container\"><div class=\"sk-label  sk-toggleable\"><input class=\"sk-toggleable__control sk-hidden--visually\" id=\"sk-estimator-id-4\" type=\"checkbox\" ><label for=\"sk-estimator-id-4\" class=\"sk-toggleable__label  sk-toggleable__label-arrow \">tfidf</label><div class=\"sk-toggleable__content \"><pre>Review</pre></div> </div></div><div class=\"sk-serial\"><div class=\"sk-item\"><div class=\"sk-estimator  sk-toggleable\"><input class=\"sk-toggleable__control sk-hidden--visually\" id=\"sk-estimator-id-5\" type=\"checkbox\" ><label for=\"sk-estimator-id-5\" class=\"sk-toggleable__label  sk-toggleable__label-arrow \">&nbsp;TfidfVectorizer<a class=\"sk-estimator-doc-link \" rel=\"noreferrer\" target=\"_blank\" href=\"https://scikit-learn.org/1.4/modules/generated/sklearn.feature_extraction.text.TfidfVectorizer.html\">?<span>Documentation for TfidfVectorizer</span></a></label><div class=\"sk-toggleable__content \"><pre>TfidfVectorizer()</pre></div> </div></div></div></div></div><div class=\"sk-parallel-item\"><div class=\"sk-item\"><div class=\"sk-label-container\"><div class=\"sk-label  sk-toggleable\"><input class=\"sk-toggleable__control sk-hidden--visually\" id=\"sk-estimator-id-6\" type=\"checkbox\" ><label for=\"sk-estimator-id-6\" class=\"sk-toggleable__label  sk-toggleable__label-arrow \">remainder</label><div class=\"sk-toggleable__content \"><pre></pre></div> </div></div><div class=\"sk-serial\"><div class=\"sk-item\"><div class=\"sk-estimator  sk-toggleable\"><input class=\"sk-toggleable__control sk-hidden--visually\" id=\"sk-estimator-id-7\" type=\"checkbox\" ><label for=\"sk-estimator-id-7\" class=\"sk-toggleable__label  sk-toggleable__label-arrow \">passthrough</label><div class=\"sk-toggleable__content \"><pre>passthrough</pre></div> </div></div></div></div></div></div></div></div></div></div></div>"
      ],
      "text/plain": [
       "Pipeline(steps=[('cleaning',\n",
       "                 FunctionTransformer(func=<function <lambda> at 0x0000015C82FF2B80>)),\n",
       "                ('tfidf',\n",
       "                 ColumnTransformer(remainder='passthrough',\n",
       "                                   transformers=[('tfidf', TfidfVectorizer(),\n",
       "                                                  'Review')]))])"
      ]
     },
     "execution_count": 104,
     "metadata": {},
     "output_type": "execute_result"
    }
   ],
   "source": [
    "preprocessor = ImbPipeline([\n",
    "    ('cleaning', FunctionTransformer(lambda x: x.applymap(clean_text))),\n",
    "    ('tfidf', ColumnTransformer([\n",
    "        ('tfidf', RF_vectorizer, 'Review')], remainder='passthrough'))\n",
    "])\n",
    "\n",
    "preprocessor"
   ]
  },
  {
   "cell_type": "code",
   "execution_count": 105,
   "id": "b29ddb36-70e2-456b-bf71-72acc78b2917",
   "metadata": {},
   "outputs": [
    {
     "data": {
      "text/plain": [
       "<20491x44754 sparse matrix of type '<class 'numpy.float64'>'\n",
       "\twith 1577890 stored elements in Compressed Sparse Row format>"
      ]
     },
     "execution_count": 105,
     "metadata": {},
     "output_type": "execute_result"
    }
   ],
   "source": [
    "X_test1 = preprocessor.fit_transform(X)\n",
    "X_test1"
   ]
  },
  {
   "cell_type": "code",
   "execution_count": 106,
   "id": "a00c36ea-e19d-4a9f-95b8-9798abd219b6",
   "metadata": {},
   "outputs": [
    {
     "data": {
      "text/plain": [
       "['RF_Vectorizer']"
      ]
     },
     "execution_count": 106,
     "metadata": {},
     "output_type": "execute_result"
    }
   ],
   "source": [
    "import joblib\n",
    "\n",
    "joblib.dump(RF_vectorizer, \"RF_Vectorizer\")"
   ]
  },
  {
   "cell_type": "markdown",
   "id": "30df28e0-afde-4fbb-8055-2c9079407863",
   "metadata": {},
   "source": [
    "### Model Training"
   ]
  },
  {
   "cell_type": "code",
   "execution_count": 107,
   "id": "09b31407-9d53-4082-b114-1a26e4d987ad",
   "metadata": {},
   "outputs": [],
   "source": [
    "X = df1[['Review']]\n",
    "y = df1['Rating']"
   ]
  },
  {
   "cell_type": "code",
   "execution_count": 108,
   "id": "dbc92594-3957-4f84-8a1f-3ca5310348fe",
   "metadata": {},
   "outputs": [],
   "source": [
    "Pipeline = ImbPipeline([\n",
    "    ('cleaning', FunctionTransformer(lambda x: x.applymap(clean_text))),\n",
    "    ('tfidf', ColumnTransformer([\n",
    "        ('tfidf', RF_vectorizer, 'Review')], remainder='passthrough')),\n",
    "    ('ros', RandomOverSampler(random_state=42)),  \n",
    "])"
   ]
  },
  {
   "cell_type": "code",
   "execution_count": 109,
   "id": "33d61a1a-4f9c-4a18-a232-e18c01c57448",
   "metadata": {},
   "outputs": [],
   "source": [
    "X_resampled, y_resampled = Pipeline.fit_resample(X, y)"
   ]
  },
  {
   "cell_type": "code",
   "execution_count": 110,
   "id": "05914271-2668-421c-8eab-c2d7d95ff4cb",
   "metadata": {},
   "outputs": [],
   "source": [
    "X_train, X_test, Y_train, Y_test = train_test_split(X_resampled, y_resampled, test_size=0.33, random_state=42,stratify = y_resampled)"
   ]
  },
  {
   "cell_type": "code",
   "execution_count": 111,
   "id": "3604680f-1aff-47a4-8fbb-f857127f2223",
   "metadata": {},
   "outputs": [
    {
     "data": {
      "text/html": [
       "<style>#sk-container-id-2 {\n",
       "  /* Definition of color scheme common for light and dark mode */\n",
       "  --sklearn-color-text: black;\n",
       "  --sklearn-color-line: gray;\n",
       "  /* Definition of color scheme for unfitted estimators */\n",
       "  --sklearn-color-unfitted-level-0: #fff5e6;\n",
       "  --sklearn-color-unfitted-level-1: #f6e4d2;\n",
       "  --sklearn-color-unfitted-level-2: #ffe0b3;\n",
       "  --sklearn-color-unfitted-level-3: chocolate;\n",
       "  /* Definition of color scheme for fitted estimators */\n",
       "  --sklearn-color-fitted-level-0: #f0f8ff;\n",
       "  --sklearn-color-fitted-level-1: #d4ebff;\n",
       "  --sklearn-color-fitted-level-2: #b3dbfd;\n",
       "  --sklearn-color-fitted-level-3: cornflowerblue;\n",
       "\n",
       "  /* Specific color for light theme */\n",
       "  --sklearn-color-text-on-default-background: var(--sg-text-color, var(--theme-code-foreground, var(--jp-content-font-color1, black)));\n",
       "  --sklearn-color-background: var(--sg-background-color, var(--theme-background, var(--jp-layout-color0, white)));\n",
       "  --sklearn-color-border-box: var(--sg-text-color, var(--theme-code-foreground, var(--jp-content-font-color1, black)));\n",
       "  --sklearn-color-icon: #696969;\n",
       "\n",
       "  @media (prefers-color-scheme: dark) {\n",
       "    /* Redefinition of color scheme for dark theme */\n",
       "    --sklearn-color-text-on-default-background: var(--sg-text-color, var(--theme-code-foreground, var(--jp-content-font-color1, white)));\n",
       "    --sklearn-color-background: var(--sg-background-color, var(--theme-background, var(--jp-layout-color0, #111)));\n",
       "    --sklearn-color-border-box: var(--sg-text-color, var(--theme-code-foreground, var(--jp-content-font-color1, white)));\n",
       "    --sklearn-color-icon: #878787;\n",
       "  }\n",
       "}\n",
       "\n",
       "#sk-container-id-2 {\n",
       "  color: var(--sklearn-color-text);\n",
       "}\n",
       "\n",
       "#sk-container-id-2 pre {\n",
       "  padding: 0;\n",
       "}\n",
       "\n",
       "#sk-container-id-2 input.sk-hidden--visually {\n",
       "  border: 0;\n",
       "  clip: rect(1px 1px 1px 1px);\n",
       "  clip: rect(1px, 1px, 1px, 1px);\n",
       "  height: 1px;\n",
       "  margin: -1px;\n",
       "  overflow: hidden;\n",
       "  padding: 0;\n",
       "  position: absolute;\n",
       "  width: 1px;\n",
       "}\n",
       "\n",
       "#sk-container-id-2 div.sk-dashed-wrapped {\n",
       "  border: 1px dashed var(--sklearn-color-line);\n",
       "  margin: 0 0.4em 0.5em 0.4em;\n",
       "  box-sizing: border-box;\n",
       "  padding-bottom: 0.4em;\n",
       "  background-color: var(--sklearn-color-background);\n",
       "}\n",
       "\n",
       "#sk-container-id-2 div.sk-container {\n",
       "  /* jupyter's `normalize.less` sets `[hidden] { display: none; }`\n",
       "     but bootstrap.min.css set `[hidden] { display: none !important; }`\n",
       "     so we also need the `!important` here to be able to override the\n",
       "     default hidden behavior on the sphinx rendered scikit-learn.org.\n",
       "     See: https://github.com/scikit-learn/scikit-learn/issues/21755 */\n",
       "  display: inline-block !important;\n",
       "  position: relative;\n",
       "}\n",
       "\n",
       "#sk-container-id-2 div.sk-text-repr-fallback {\n",
       "  display: none;\n",
       "}\n",
       "\n",
       "div.sk-parallel-item,\n",
       "div.sk-serial,\n",
       "div.sk-item {\n",
       "  /* draw centered vertical line to link estimators */\n",
       "  background-image: linear-gradient(var(--sklearn-color-text-on-default-background), var(--sklearn-color-text-on-default-background));\n",
       "  background-size: 2px 100%;\n",
       "  background-repeat: no-repeat;\n",
       "  background-position: center center;\n",
       "}\n",
       "\n",
       "/* Parallel-specific style estimator block */\n",
       "\n",
       "#sk-container-id-2 div.sk-parallel-item::after {\n",
       "  content: \"\";\n",
       "  width: 100%;\n",
       "  border-bottom: 2px solid var(--sklearn-color-text-on-default-background);\n",
       "  flex-grow: 1;\n",
       "}\n",
       "\n",
       "#sk-container-id-2 div.sk-parallel {\n",
       "  display: flex;\n",
       "  align-items: stretch;\n",
       "  justify-content: center;\n",
       "  background-color: var(--sklearn-color-background);\n",
       "  position: relative;\n",
       "}\n",
       "\n",
       "#sk-container-id-2 div.sk-parallel-item {\n",
       "  display: flex;\n",
       "  flex-direction: column;\n",
       "}\n",
       "\n",
       "#sk-container-id-2 div.sk-parallel-item:first-child::after {\n",
       "  align-self: flex-end;\n",
       "  width: 50%;\n",
       "}\n",
       "\n",
       "#sk-container-id-2 div.sk-parallel-item:last-child::after {\n",
       "  align-self: flex-start;\n",
       "  width: 50%;\n",
       "}\n",
       "\n",
       "#sk-container-id-2 div.sk-parallel-item:only-child::after {\n",
       "  width: 0;\n",
       "}\n",
       "\n",
       "/* Serial-specific style estimator block */\n",
       "\n",
       "#sk-container-id-2 div.sk-serial {\n",
       "  display: flex;\n",
       "  flex-direction: column;\n",
       "  align-items: center;\n",
       "  background-color: var(--sklearn-color-background);\n",
       "  padding-right: 1em;\n",
       "  padding-left: 1em;\n",
       "}\n",
       "\n",
       "\n",
       "/* Toggleable style: style used for estimator/Pipeline/ColumnTransformer box that is\n",
       "clickable and can be expanded/collapsed.\n",
       "- Pipeline and ColumnTransformer use this feature and define the default style\n",
       "- Estimators will overwrite some part of the style using the `sk-estimator` class\n",
       "*/\n",
       "\n",
       "/* Pipeline and ColumnTransformer style (default) */\n",
       "\n",
       "#sk-container-id-2 div.sk-toggleable {\n",
       "  /* Default theme specific background. It is overwritten whether we have a\n",
       "  specific estimator or a Pipeline/ColumnTransformer */\n",
       "  background-color: var(--sklearn-color-background);\n",
       "}\n",
       "\n",
       "/* Toggleable label */\n",
       "#sk-container-id-2 label.sk-toggleable__label {\n",
       "  cursor: pointer;\n",
       "  display: block;\n",
       "  width: 100%;\n",
       "  margin-bottom: 0;\n",
       "  padding: 0.5em;\n",
       "  box-sizing: border-box;\n",
       "  text-align: center;\n",
       "}\n",
       "\n",
       "#sk-container-id-2 label.sk-toggleable__label-arrow:before {\n",
       "  /* Arrow on the left of the label */\n",
       "  content: \"▸\";\n",
       "  float: left;\n",
       "  margin-right: 0.25em;\n",
       "  color: var(--sklearn-color-icon);\n",
       "}\n",
       "\n",
       "#sk-container-id-2 label.sk-toggleable__label-arrow:hover:before {\n",
       "  color: var(--sklearn-color-text);\n",
       "}\n",
       "\n",
       "/* Toggleable content - dropdown */\n",
       "\n",
       "#sk-container-id-2 div.sk-toggleable__content {\n",
       "  max-height: 0;\n",
       "  max-width: 0;\n",
       "  overflow: hidden;\n",
       "  text-align: left;\n",
       "  /* unfitted */\n",
       "  background-color: var(--sklearn-color-unfitted-level-0);\n",
       "}\n",
       "\n",
       "#sk-container-id-2 div.sk-toggleable__content.fitted {\n",
       "  /* fitted */\n",
       "  background-color: var(--sklearn-color-fitted-level-0);\n",
       "}\n",
       "\n",
       "#sk-container-id-2 div.sk-toggleable__content pre {\n",
       "  margin: 0.2em;\n",
       "  border-radius: 0.25em;\n",
       "  color: var(--sklearn-color-text);\n",
       "  /* unfitted */\n",
       "  background-color: var(--sklearn-color-unfitted-level-0);\n",
       "}\n",
       "\n",
       "#sk-container-id-2 div.sk-toggleable__content.fitted pre {\n",
       "  /* unfitted */\n",
       "  background-color: var(--sklearn-color-fitted-level-0);\n",
       "}\n",
       "\n",
       "#sk-container-id-2 input.sk-toggleable__control:checked~div.sk-toggleable__content {\n",
       "  /* Expand drop-down */\n",
       "  max-height: 200px;\n",
       "  max-width: 100%;\n",
       "  overflow: auto;\n",
       "}\n",
       "\n",
       "#sk-container-id-2 input.sk-toggleable__control:checked~label.sk-toggleable__label-arrow:before {\n",
       "  content: \"▾\";\n",
       "}\n",
       "\n",
       "/* Pipeline/ColumnTransformer-specific style */\n",
       "\n",
       "#sk-container-id-2 div.sk-label input.sk-toggleable__control:checked~label.sk-toggleable__label {\n",
       "  color: var(--sklearn-color-text);\n",
       "  background-color: var(--sklearn-color-unfitted-level-2);\n",
       "}\n",
       "\n",
       "#sk-container-id-2 div.sk-label.fitted input.sk-toggleable__control:checked~label.sk-toggleable__label {\n",
       "  background-color: var(--sklearn-color-fitted-level-2);\n",
       "}\n",
       "\n",
       "/* Estimator-specific style */\n",
       "\n",
       "/* Colorize estimator box */\n",
       "#sk-container-id-2 div.sk-estimator input.sk-toggleable__control:checked~label.sk-toggleable__label {\n",
       "  /* unfitted */\n",
       "  background-color: var(--sklearn-color-unfitted-level-2);\n",
       "}\n",
       "\n",
       "#sk-container-id-2 div.sk-estimator.fitted input.sk-toggleable__control:checked~label.sk-toggleable__label {\n",
       "  /* fitted */\n",
       "  background-color: var(--sklearn-color-fitted-level-2);\n",
       "}\n",
       "\n",
       "#sk-container-id-2 div.sk-label label.sk-toggleable__label,\n",
       "#sk-container-id-2 div.sk-label label {\n",
       "  /* The background is the default theme color */\n",
       "  color: var(--sklearn-color-text-on-default-background);\n",
       "}\n",
       "\n",
       "/* On hover, darken the color of the background */\n",
       "#sk-container-id-2 div.sk-label:hover label.sk-toggleable__label {\n",
       "  color: var(--sklearn-color-text);\n",
       "  background-color: var(--sklearn-color-unfitted-level-2);\n",
       "}\n",
       "\n",
       "/* Label box, darken color on hover, fitted */\n",
       "#sk-container-id-2 div.sk-label.fitted:hover label.sk-toggleable__label.fitted {\n",
       "  color: var(--sklearn-color-text);\n",
       "  background-color: var(--sklearn-color-fitted-level-2);\n",
       "}\n",
       "\n",
       "/* Estimator label */\n",
       "\n",
       "#sk-container-id-2 div.sk-label label {\n",
       "  font-family: monospace;\n",
       "  font-weight: bold;\n",
       "  display: inline-block;\n",
       "  line-height: 1.2em;\n",
       "}\n",
       "\n",
       "#sk-container-id-2 div.sk-label-container {\n",
       "  text-align: center;\n",
       "}\n",
       "\n",
       "/* Estimator-specific */\n",
       "#sk-container-id-2 div.sk-estimator {\n",
       "  font-family: monospace;\n",
       "  border: 1px dotted var(--sklearn-color-border-box);\n",
       "  border-radius: 0.25em;\n",
       "  box-sizing: border-box;\n",
       "  margin-bottom: 0.5em;\n",
       "  /* unfitted */\n",
       "  background-color: var(--sklearn-color-unfitted-level-0);\n",
       "}\n",
       "\n",
       "#sk-container-id-2 div.sk-estimator.fitted {\n",
       "  /* fitted */\n",
       "  background-color: var(--sklearn-color-fitted-level-0);\n",
       "}\n",
       "\n",
       "/* on hover */\n",
       "#sk-container-id-2 div.sk-estimator:hover {\n",
       "  /* unfitted */\n",
       "  background-color: var(--sklearn-color-unfitted-level-2);\n",
       "}\n",
       "\n",
       "#sk-container-id-2 div.sk-estimator.fitted:hover {\n",
       "  /* fitted */\n",
       "  background-color: var(--sklearn-color-fitted-level-2);\n",
       "}\n",
       "\n",
       "/* Specification for estimator info (e.g. \"i\" and \"?\") */\n",
       "\n",
       "/* Common style for \"i\" and \"?\" */\n",
       "\n",
       ".sk-estimator-doc-link,\n",
       "a:link.sk-estimator-doc-link,\n",
       "a:visited.sk-estimator-doc-link {\n",
       "  float: right;\n",
       "  font-size: smaller;\n",
       "  line-height: 1em;\n",
       "  font-family: monospace;\n",
       "  background-color: var(--sklearn-color-background);\n",
       "  border-radius: 1em;\n",
       "  height: 1em;\n",
       "  width: 1em;\n",
       "  text-decoration: none !important;\n",
       "  margin-left: 1ex;\n",
       "  /* unfitted */\n",
       "  border: var(--sklearn-color-unfitted-level-1) 1pt solid;\n",
       "  color: var(--sklearn-color-unfitted-level-1);\n",
       "}\n",
       "\n",
       ".sk-estimator-doc-link.fitted,\n",
       "a:link.sk-estimator-doc-link.fitted,\n",
       "a:visited.sk-estimator-doc-link.fitted {\n",
       "  /* fitted */\n",
       "  border: var(--sklearn-color-fitted-level-1) 1pt solid;\n",
       "  color: var(--sklearn-color-fitted-level-1);\n",
       "}\n",
       "\n",
       "/* On hover */\n",
       "div.sk-estimator:hover .sk-estimator-doc-link:hover,\n",
       ".sk-estimator-doc-link:hover,\n",
       "div.sk-label-container:hover .sk-estimator-doc-link:hover,\n",
       ".sk-estimator-doc-link:hover {\n",
       "  /* unfitted */\n",
       "  background-color: var(--sklearn-color-unfitted-level-3);\n",
       "  color: var(--sklearn-color-background);\n",
       "  text-decoration: none;\n",
       "}\n",
       "\n",
       "div.sk-estimator.fitted:hover .sk-estimator-doc-link.fitted:hover,\n",
       ".sk-estimator-doc-link.fitted:hover,\n",
       "div.sk-label-container:hover .sk-estimator-doc-link.fitted:hover,\n",
       ".sk-estimator-doc-link.fitted:hover {\n",
       "  /* fitted */\n",
       "  background-color: var(--sklearn-color-fitted-level-3);\n",
       "  color: var(--sklearn-color-background);\n",
       "  text-decoration: none;\n",
       "}\n",
       "\n",
       "/* Span, style for the box shown on hovering the info icon */\n",
       ".sk-estimator-doc-link span {\n",
       "  display: none;\n",
       "  z-index: 9999;\n",
       "  position: relative;\n",
       "  font-weight: normal;\n",
       "  right: .2ex;\n",
       "  padding: .5ex;\n",
       "  margin: .5ex;\n",
       "  width: min-content;\n",
       "  min-width: 20ex;\n",
       "  max-width: 50ex;\n",
       "  color: var(--sklearn-color-text);\n",
       "  box-shadow: 2pt 2pt 4pt #999;\n",
       "  /* unfitted */\n",
       "  background: var(--sklearn-color-unfitted-level-0);\n",
       "  border: .5pt solid var(--sklearn-color-unfitted-level-3);\n",
       "}\n",
       "\n",
       ".sk-estimator-doc-link.fitted span {\n",
       "  /* fitted */\n",
       "  background: var(--sklearn-color-fitted-level-0);\n",
       "  border: var(--sklearn-color-fitted-level-3);\n",
       "}\n",
       "\n",
       ".sk-estimator-doc-link:hover span {\n",
       "  display: block;\n",
       "}\n",
       "\n",
       "/* \"?\"-specific style due to the `<a>` HTML tag */\n",
       "\n",
       "#sk-container-id-2 a.estimator_doc_link {\n",
       "  float: right;\n",
       "  font-size: 1rem;\n",
       "  line-height: 1em;\n",
       "  font-family: monospace;\n",
       "  background-color: var(--sklearn-color-background);\n",
       "  border-radius: 1rem;\n",
       "  height: 1rem;\n",
       "  width: 1rem;\n",
       "  text-decoration: none;\n",
       "  /* unfitted */\n",
       "  color: var(--sklearn-color-unfitted-level-1);\n",
       "  border: var(--sklearn-color-unfitted-level-1) 1pt solid;\n",
       "}\n",
       "\n",
       "#sk-container-id-2 a.estimator_doc_link.fitted {\n",
       "  /* fitted */\n",
       "  border: var(--sklearn-color-fitted-level-1) 1pt solid;\n",
       "  color: var(--sklearn-color-fitted-level-1);\n",
       "}\n",
       "\n",
       "/* On hover */\n",
       "#sk-container-id-2 a.estimator_doc_link:hover {\n",
       "  /* unfitted */\n",
       "  background-color: var(--sklearn-color-unfitted-level-3);\n",
       "  color: var(--sklearn-color-background);\n",
       "  text-decoration: none;\n",
       "}\n",
       "\n",
       "#sk-container-id-2 a.estimator_doc_link.fitted:hover {\n",
       "  /* fitted */\n",
       "  background-color: var(--sklearn-color-fitted-level-3);\n",
       "}\n",
       "</style><div id=\"sk-container-id-2\" class=\"sk-top-container\"><div class=\"sk-text-repr-fallback\"><pre>RandomForestClassifier(criterion=&#x27;entropy&#x27;)</pre><b>In a Jupyter environment, please rerun this cell to show the HTML representation or trust the notebook. <br />On GitHub, the HTML representation is unable to render, please try loading this page with nbviewer.org.</b></div><div class=\"sk-container\" hidden><div class=\"sk-item\"><div class=\"sk-estimator fitted sk-toggleable\"><input class=\"sk-toggleable__control sk-hidden--visually\" id=\"sk-estimator-id-8\" type=\"checkbox\" checked><label for=\"sk-estimator-id-8\" class=\"sk-toggleable__label fitted sk-toggleable__label-arrow fitted\">&nbsp;&nbsp;RandomForestClassifier<a class=\"sk-estimator-doc-link fitted\" rel=\"noreferrer\" target=\"_blank\" href=\"https://scikit-learn.org/1.4/modules/generated/sklearn.ensemble.RandomForestClassifier.html\">?<span>Documentation for RandomForestClassifier</span></a><span class=\"sk-estimator-doc-link fitted\">i<span>Fitted</span></span></label><div class=\"sk-toggleable__content fitted\"><pre>RandomForestClassifier(criterion=&#x27;entropy&#x27;)</pre></div> </div></div></div></div>"
      ],
      "text/plain": [
       "RandomForestClassifier(criterion='entropy')"
      ]
     },
     "execution_count": 111,
     "metadata": {},
     "output_type": "execute_result"
    }
   ],
   "source": [
    "model1 = RandomForestClassifier(criterion=\"entropy\")\n",
    "\n",
    "model1.fit(X_train, Y_train)"
   ]
  },
  {
   "cell_type": "code",
   "execution_count": 112,
   "id": "47f868b5-9ea6-453d-a2c7-b0b06f7fbef4",
   "metadata": {},
   "outputs": [],
   "source": [
    "Y_test_predict = model1.predict(X_test)"
   ]
  },
  {
   "cell_type": "code",
   "execution_count": 113,
   "id": "4fd35eee-9791-4c1c-9594-bc9ed4414b9a",
   "metadata": {},
   "outputs": [
    {
     "name": "stdout",
     "output_type": "stream",
     "text": [
      "Accuracy: 0.8908299866131192\n",
      "Confusion Matrix:\n",
      " [[2982    0    0    0    6]\n",
      " [  11 2960    0    4   13]\n",
      " [   6    2 2899   42   39]\n",
      " [   4   15   25 1932 1012]\n",
      " [   9    4    3  436 2536]]\n",
      "Classification Report:\n",
      "               precision    recall  f1-score   support\n",
      "\n",
      "           0       0.99      1.00      0.99      2988\n",
      "           1       0.99      0.99      0.99      2988\n",
      "           2       0.99      0.97      0.98      2988\n",
      "           3       0.80      0.65      0.72      2988\n",
      "           4       0.70      0.85      0.77      2988\n",
      "\n",
      "    accuracy                           0.89     14940\n",
      "   macro avg       0.90      0.89      0.89     14940\n",
      "weighted avg       0.90      0.89      0.89     14940\n",
      "\n"
     ]
    }
   ],
   "source": [
    "from sklearn.metrics import accuracy_score, confusion_matrix, classification_report\n",
    "\n",
    "# Calculate accuracy\n",
    "accuracy = accuracy_score(Y_test, Y_test_predict)\n",
    "print(\"Accuracy:\", accuracy)\n",
    "\n",
    "# Calculate confusion matrix\n",
    "conf_matrix = confusion_matrix(Y_test, Y_test_predict)\n",
    "print(\"Confusion Matrix:\\n\", conf_matrix)\n",
    "\n",
    "# Generate classification report\n",
    "class_report = classification_report(Y_test, Y_test_predict)\n",
    "print(\"Classification Report:\\n\", class_report)"
   ]
  },
  {
   "cell_type": "code",
   "execution_count": 114,
   "id": "1e6bd23d-ae68-4139-b5f4-291895f0b839",
   "metadata": {},
   "outputs": [
    {
     "data": {
      "text/plain": [
       "['RF_Model']"
      ]
     },
     "execution_count": 114,
     "metadata": {},
     "output_type": "execute_result"
    }
   ],
   "source": [
    "import joblib\n",
    "\n",
    "joblib.dump(model1, \"RF_Model\")"
   ]
  },
  {
   "cell_type": "markdown",
   "id": "28e3ff6e-e793-4ad9-a51b-f30b651e3d0e",
   "metadata": {},
   "source": [
    "## "
   ]
  },
  {
   "cell_type": "markdown",
   "id": "354b9666-51b3-46d7-944a-a8a0430c0fa8",
   "metadata": {},
   "source": [
    "### Custom Ai Generated review predictions"
   ]
  },
  {
   "cell_type": "code",
   "execution_count": 143,
   "id": "325255e3-334c-4c38-8009-67a2621f2c63",
   "metadata": {},
   "outputs": [],
   "source": [
    "reviews = [\n",
    "    \"This hotel was amazing! Great service and comfortable rooms.\",\n",
    "    \"The hotel staff was friendly, but the room was not very clean.\",\n",
    "    \"Average hotel. Nothing special, but it served its purpose.\",\n",
    "    \"I loved my stay at this hotel. The location was perfect and the staff was helpful.\",\n",
    "    \"Best service! The staff went above and beyond to make our stay enjoyable.\",\n",
    "    \"Hotel was not worth the price. The amenities were lacking and the room had outdated furniture.\",\n",
    "    \"Worst experience at this hotel. The room was dirty and the staff was rude\",\n",
    "    \"Terrible experience! The staff was rude and unhelpful. The room smelled bad and was not clean.\"\n",
    "]\n",
    "\n",
    "# Corresponding ratings\n",
    "ratings = [4, 3, 2, 3, 4, 3, 0, 0]\n",
    "#ratings2 = [2, 2, 1, 2, 2, 1, 1, 0, 0, 0]\n",
    "\n",
    "# Create DataFrame\n",
    "df_review = pd.DataFrame({\n",
    "    'Review': reviews,\n",
    "    'Rating': ratings\n",
    "})\n",
    "\n",
    "\n",
    "X = df_review['Review']\n",
    "y = df_review['Rating']"
   ]
  },
  {
   "cell_type": "code",
   "execution_count": 144,
   "id": "94217706-6b2d-4af1-8726-9e33068e06fb",
   "metadata": {},
   "outputs": [
    {
     "data": {
      "text/plain": [
       "0    This hotel was amazing! Great service and comf...\n",
       "1    The hotel staff was friendly, but the room was...\n",
       "2    Average hotel. Nothing special, but it served ...\n",
       "3    I loved my stay at this hotel. The location wa...\n",
       "4    Best service! The staff went above and beyond ...\n",
       "Name: Review, dtype: object"
      ]
     },
     "execution_count": 144,
     "metadata": {},
     "output_type": "execute_result"
    }
   ],
   "source": [
    "X.head()"
   ]
  },
  {
   "cell_type": "code",
   "execution_count": 166,
   "id": "80ab0e01-6c2d-4605-83a5-07cbe179bddb",
   "metadata": {},
   "outputs": [],
   "source": [
    "import joblib\n",
    "\n",
    "RF_vectorizer = joblib.load(\"RF_Vectorizer\")\n",
    "load_model = joblib.load(\"RF_Model\")"
   ]
  },
  {
   "cell_type": "code",
   "execution_count": 167,
   "id": "1aa88c0e-fbbc-4b62-9f5d-615e3895353b",
   "metadata": {},
   "outputs": [
    {
     "data": {
      "text/plain": [
       "<8x44754 sparse matrix of type '<class 'numpy.float64'>'\n",
       "\twith 54 stored elements in Compressed Sparse Row format>"
      ]
     },
     "execution_count": 167,
     "metadata": {},
     "output_type": "execute_result"
    }
   ],
   "source": [
    "X_encoded = RF_vectorizer.transform(X)\n",
    "X_encoded"
   ]
  },
  {
   "cell_type": "code",
   "execution_count": 168,
   "id": "2e34d2e4-3ee9-4940-b2a5-823eb4993af7",
   "metadata": {},
   "outputs": [
    {
     "data": {
      "text/plain": [
       "array([4, 3, 2, 4, 4, 4, 0, 0], dtype=int64)"
      ]
     },
     "execution_count": 168,
     "metadata": {},
     "output_type": "execute_result"
    }
   ],
   "source": [
    "y_pred = load_model.predict(X_encoded)\n",
    "y_pred"
   ]
  },
  {
   "cell_type": "code",
   "execution_count": 169,
   "id": "4656d9e8-6b92-44da-af27-357d1a20b4b4",
   "metadata": {},
   "outputs": [
    {
     "data": {
      "text/plain": [
       "array([4, 3, 2, 3, 4, 3, 0, 0], dtype=int64)"
      ]
     },
     "execution_count": 169,
     "metadata": {},
     "output_type": "execute_result"
    }
   ],
   "source": [
    "y.values"
   ]
  },
  {
   "cell_type": "code",
   "execution_count": 170,
   "id": "500502f5-c534-4790-96f5-0dd00ea43cab",
   "metadata": {},
   "outputs": [
    {
     "name": "stdout",
     "output_type": "stream",
     "text": [
      "Accuracy: 0.75\n",
      "Confusion Matrix:\n",
      " [[2 0 0 0]\n",
      " [0 1 0 0]\n",
      " [0 0 1 2]\n",
      " [0 0 0 2]]\n",
      "Classification Report:\n",
      "               precision    recall  f1-score   support\n",
      "\n",
      "           0       1.00      1.00      1.00         2\n",
      "           2       1.00      1.00      1.00         1\n",
      "           3       1.00      0.33      0.50         3\n",
      "           4       0.50      1.00      0.67         2\n",
      "\n",
      "    accuracy                           0.75         8\n",
      "   macro avg       0.88      0.83      0.79         8\n",
      "weighted avg       0.88      0.75      0.73         8\n",
      "\n"
     ]
    }
   ],
   "source": [
    "from sklearn.metrics import accuracy_score, confusion_matrix, classification_report\n",
    "\n",
    "# Calculate accuracy\n",
    "accuracy = accuracy_score(y, y_pred)\n",
    "print(\"Accuracy:\", accuracy)\n",
    "\n",
    "# Calculate confusion matrix\n",
    "conf_matrix = confusion_matrix(y, y_pred)\n",
    "print(\"Confusion Matrix:\\n\", conf_matrix)\n",
    "\n",
    "# Generate classification report\n",
    "class_report = classification_report(y, y_pred)\n",
    "print(\"Classification Report:\\n\", class_report)"
   ]
  },
  {
   "cell_type": "markdown",
   "id": "b2227c58-3e36-43f8-8eae-01fc65fb2ea7",
   "metadata": {},
   "source": [
    "## "
   ]
  },
  {
   "cell_type": "markdown",
   "id": "c2145017-1aa5-45b3-aa6b-34e5e94248c2",
   "metadata": {},
   "source": [
    "### Testing with Real Reviews from TripAdvisor Website"
   ]
  },
  {
   "cell_type": "code",
   "execution_count": 171,
   "id": "1bab908d-6fd5-42f6-884d-caa42e770946",
   "metadata": {},
   "outputs": [
    {
     "data": {
      "text/plain": [
       "array([4], dtype=int64)"
      ]
     },
     "execution_count": 171,
     "metadata": {},
     "output_type": "execute_result"
    }
   ],
   "source": [
    "input = \"\"\"\n",
    "The hotel location, staff and food were excellent. We had not expected to stay in Mumbai and hope we will return.\n",
    "The room was spotless with partial sea view a joy to wake up to each morning.\n",
    "The staff were extremely helpful and considerate as my husband had been in hospital unexpectedly and we came for him to recuperate - could not have asked for more. They made suggestions for places to see and eat, booked taxis when needed and helped us enjoy Mumbai In difficult circumstances.\n",
    "Thank you all staff!\n",
    "\"\"\"\n",
    "\n",
    "input_vectorized = RF_vectorizer.transform([input])\n",
    "y_pred = load_model.predict(input_vectorized)\n",
    "y_pred"
   ]
  },
  {
   "cell_type": "code",
   "execution_count": 175,
   "id": "27273ded-c321-4a6b-8685-3312404bf6c8",
   "metadata": {},
   "outputs": [
    {
     "data": {
      "text/plain": [
       "array([0], dtype=int64)"
      ]
     },
     "execution_count": 175,
     "metadata": {},
     "output_type": "execute_result"
    }
   ],
   "source": [
    "input = \"\"\"\n",
    "I had checked in , in this third class hotel on 19th October. I was given room no.607. I booked the room for 2 days for which i paid 20,000 rupees and I highly regret for the same. I had a reason to book this hotel—- 1. I wanted a sea facing view which was shown in the pictures. I wanted a peaceful stay with my husband as we were on vacation after a very long time. I wanted to surprise my husband and make it special for him as it was his birthday. I wanted a beautiful experience for my short stay in Mumbai.\n",
    "BUT NONE OF THESE REQUIREMENTS WERE MET.I was given a very third grade room in 1 corner which had view of residential buildings and their windows ,despite telling the staff that i wanted a sea view and thats the only reason i booked this hotel.The hotel staff was very unprofessional.\n",
    "In the breakfast buffet, we saw a COCKROACH in the donut tray for which we reported to the staff and the in room dining manager there, they saw and behaved as if it was very normal for them to see a cockroach roaming inside the tray. We asked them to change the trays as it is so unhygienic and the cockroach might have entered other trays as well but the manager denied and said we cannot do that and the same trays were kept there and all other guests were consuming the food items there. I felt very awful after seeing that practice of the staff.. the manager and the staff were not even embarrassed or sorry for the same.\n",
    "While checking out, i was asked to wait for more than 20 minutes because their cleaning staff couldn’t find a water bottle in the refrigerator which was not there at first place. They wanted to charge me for it, even after telling them that the bottle was not there at the first place.\n",
    "I felt so humiliated and embarrassed that these people are blaming me for a 20 rupees water bottle wherein i paid 20k for 2 days stays…The staff is absolutely shameless and unprofessional. They don’t know how to behave with the guests and their customer service is extremely poor.\n",
    "I would say Yuckssssssss for this hotel and the entire experience in this pathetic low class hotel. I will submit this review everywhere possible and make sure that the world gets to know about this hotel and the shameless staff.\n",
    "\"\"\"\n",
    "\n",
    "input_vectorized = RF_vectorizer.transform([input])\n",
    "y_pred = load_model.predict(input_vectorized)\n",
    "y_pred"
   ]
  },
  {
   "cell_type": "code",
   "execution_count": null,
   "id": "23c6dd4a-7b80-46b5-9a81-2cb08c42b8cc",
   "metadata": {},
   "outputs": [],
   "source": []
  }
 ],
 "metadata": {
  "kernelspec": {
   "display_name": "meet",
   "language": "python",
   "name": "meet"
  },
  "language_info": {
   "codemirror_mode": {
    "name": "ipython",
    "version": 3
   },
   "file_extension": ".py",
   "mimetype": "text/x-python",
   "name": "python",
   "nbconvert_exporter": "python",
   "pygments_lexer": "ipython3",
   "version": "3.9.19"
  }
 },
 "nbformat": 4,
 "nbformat_minor": 5
}
